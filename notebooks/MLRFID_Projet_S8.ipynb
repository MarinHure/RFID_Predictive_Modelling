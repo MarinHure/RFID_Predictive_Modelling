{
 "cells": [
  {
   "cell_type": "code",
   "execution_count": 79,
   "metadata": {
    "colab": {},
    "colab_type": "code",
    "id": "YELosqgI0JXJ"
   },
   "outputs": [],
   "source": [
    "import pandas as pd\n",
    "import numpy as np\n",
    "import matplotlib.pyplot as plt\n",
    "import os\n",
    "import datetime\n",
    "import warnings\n",
    "warnings.simplefilter(action='ignore', category=FutureWarning)"
   ]
  },
  {
   "cell_type": "markdown",
   "metadata": {
    "colab_type": "text",
    "id": "7zST4TVM1TuO"
   },
   "source": []
  },
  {
   "cell_type": "code",
   "execution_count": 80,
   "metadata": {
    "colab": {
     "base_uri": "https://localhost:8080/",
     "height": 649
    },
    "colab_type": "code",
    "executionInfo": {
     "elapsed": 5552,
     "status": "ok",
     "timestamp": 1588018737945,
     "user": {
      "displayName": "Christophe Loussert",
      "photoUrl": "",
      "userId": "16796903251132996478"
     },
     "user_tz": -120
    },
    "id": "-m9AI7NR0JXR",
    "outputId": "455c9fb5-0d7d-4716-8439-015200d5cd05"
   },
   "outputs": [
    {
     "name": "stdout",
     "output_type": "stream",
     "text": [
      "reflist_0.olpn\n",
      "ano_APTags-TagsAutomatedProcess-2019-11-07-18_38_19.csv\n",
      "ano_APTags-TagsAutomatedProcess-2019-11-07-19_10_51.csv\n",
      "reflist_1.olpn\n",
      "ano_APTags-TagsAutomatedProcess-2019-11-07-16_29_46.csv\n",
      "ano_APTags-TagsAutomatedProcess-2019-11-07-18_49_44.csv\n",
      "ano_APTags-TagsAutomatedProcess-2019-11-08-10_55_25.csv\n",
      "reflist_6.olpn\n",
      "ano_APTags-TagsAutomatedProcess-2019-11-07-19_00_26.csv\n",
      "ano_APTags-TagsAutomatedProcess-2019-11-07-17_58_50.csv\n",
      "reflist_7.olpn\n",
      "ano_supply-process.2019-11-07-CUT.csv\n",
      "ano_APTags-TagsAutomatedProcess-2019-11-07-19_29_54.csv\n",
      "reflist_8.olpn\n",
      "ano_APTags-TagsAutomatedProcess-2019-11-07-18_21_44.csv\n",
      "reflist_4.olpn\n",
      "ano_APTags-TagsAutomatedProcess-2019-11-07-18_30_01.csv\n",
      "ano_APTags-TagsAutomatedProcess-2019-11-07-18_13_30.csv\n",
      "reflist_5.olpn\n",
      "reflist_9.olpn\n",
      "reflist_2.olpn\n",
      "ano_APTags-TagsAutomatedProcess-2019-11-07-17_32_19.csv\n",
      "ano_APTags-TagsAutomatedProcess-2019-11-07-17_16_18.csv\n",
      "ano_APTags-TagsAutomatedProcess-2019-11-07-16_57_34.csv\n",
      "ano_APTags-TagsAutomatedProcess-2019-11-07-19_20_14.csv\n",
      "reflist_3.olpn\n"
     ]
    },
    {
     "data": {
      "text/plain": "         Epc  refListId_actual  Q refListId_actual\n0     epc_90                 0                  16\n1     epc_91                 0                  16\n2     epc_92                 0                  16\n3     epc_93                 0                  16\n4     epc_94                 0                  16\n..       ...               ...                 ...\n197  epc_187                 3                  10\n198  epc_188                 3                  10\n199  epc_189                 3                  10\n200  epc_190                 3                  10\n201  epc_191                 3                  10\n\n[202 rows x 3 columns]",
      "text/html": "<div>\n<style scoped>\n    .dataframe tbody tr th:only-of-type {\n        vertical-align: middle;\n    }\n\n    .dataframe tbody tr th {\n        vertical-align: top;\n    }\n\n    .dataframe thead th {\n        text-align: right;\n    }\n</style>\n<table border=\"1\" class=\"dataframe\">\n  <thead>\n    <tr style=\"text-align: right;\">\n      <th></th>\n      <th>Epc</th>\n      <th>refListId_actual</th>\n      <th>Q refListId_actual</th>\n    </tr>\n  </thead>\n  <tbody>\n    <tr>\n      <th>0</th>\n      <td>epc_90</td>\n      <td>0</td>\n      <td>16</td>\n    </tr>\n    <tr>\n      <th>1</th>\n      <td>epc_91</td>\n      <td>0</td>\n      <td>16</td>\n    </tr>\n    <tr>\n      <th>2</th>\n      <td>epc_92</td>\n      <td>0</td>\n      <td>16</td>\n    </tr>\n    <tr>\n      <th>3</th>\n      <td>epc_93</td>\n      <td>0</td>\n      <td>16</td>\n    </tr>\n    <tr>\n      <th>4</th>\n      <td>epc_94</td>\n      <td>0</td>\n      <td>16</td>\n    </tr>\n    <tr>\n      <th>...</th>\n      <td>...</td>\n      <td>...</td>\n      <td>...</td>\n    </tr>\n    <tr>\n      <th>197</th>\n      <td>epc_187</td>\n      <td>3</td>\n      <td>10</td>\n    </tr>\n    <tr>\n      <th>198</th>\n      <td>epc_188</td>\n      <td>3</td>\n      <td>10</td>\n    </tr>\n    <tr>\n      <th>199</th>\n      <td>epc_189</td>\n      <td>3</td>\n      <td>10</td>\n    </tr>\n    <tr>\n      <th>200</th>\n      <td>epc_190</td>\n      <td>3</td>\n      <td>10</td>\n    </tr>\n    <tr>\n      <th>201</th>\n      <td>epc_191</td>\n      <td>3</td>\n      <td>10</td>\n    </tr>\n  </tbody>\n</table>\n<p>202 rows × 3 columns</p>\n</div>"
     },
     "execution_count": 80,
     "metadata": {},
     "output_type": "execute_result"
    }
   ],
   "source": [
    "pathfile=r'data_anonymous'\n",
    "\n",
    "# reflist: list of epc in each box\n",
    "reflist=pd.DataFrame()\n",
    "# On ajoute tout les fichiers dans files\n",
    "files=os.listdir(pathfile)\n",
    "for file in files:\n",
    "    print(file)\n",
    "    if file.startswith('reflist_'):\n",
    "        temp=pd.read_csv(os.path.join(pathfile,file),sep=',').reset_index(drop=True)[['Epc']]\n",
    "        temp['refListId']=file.split('.')[0]\n",
    "        reflist=reflist.append(temp)\n",
    "reflist=reflist.rename(columns={'refListId':'refListId_actual'})\n",
    "reflist['refListId_actual']=reflist['refListId_actual'].apply(lambda x:int(x[8:]))\n",
    "Q_refListId_actual=reflist.groupby('refListId_actual')['Epc'].nunique().rename('Q refListId_actual').reset_index(drop=False)\n",
    "reflist=pd.merge(reflist,Q_refListId_actual,on='refListId_actual',how='left')\n",
    "reflist"
   ]
  },
  {
   "cell_type": "markdown",
   "metadata": {
    "colab_type": "raw",
    "id": "SmNoqEdW0JXW"
   },
   "source": []
  },
  {
   "cell_type": "code",
   "execution_count": 81,
   "metadata": {
    "colab": {
     "base_uri": "https://localhost:8080/",
     "height": 649
    },
    "colab_type": "code",
    "executionInfo": {
     "elapsed": 14346,
     "status": "ok",
     "timestamp": 1588018763694,
     "user": {
      "displayName": "Christophe Loussert",
      "photoUrl": "",
      "userId": "16796903251132996478"
     },
     "user_tz": -120
    },
    "id": "uDalaKhY0JXX",
    "outputId": "d0d5ba0d-fa11-4d44-d444-5298abc9377e"
   },
   "outputs": [
    {
     "name": "stdout",
     "output_type": "stream",
     "text": [
      "reflist_0.olpn\n",
      "ano_APTags-TagsAutomatedProcess-2019-11-07-18_38_19.csv\n",
      "ano_APTags-TagsAutomatedProcess-2019-11-07-19_10_51.csv\n",
      "reflist_1.olpn\n",
      "ano_APTags-TagsAutomatedProcess-2019-11-07-16_29_46.csv\n",
      "ano_APTags-TagsAutomatedProcess-2019-11-07-18_49_44.csv\n",
      "ano_APTags-TagsAutomatedProcess-2019-11-08-10_55_25.csv\n",
      "reflist_6.olpn\n",
      "ano_APTags-TagsAutomatedProcess-2019-11-07-19_00_26.csv\n",
      "ano_APTags-TagsAutomatedProcess-2019-11-07-17_58_50.csv\n",
      "reflist_7.olpn\n",
      "ano_supply-process.2019-11-07-CUT.csv\n",
      "ano_APTags-TagsAutomatedProcess-2019-11-07-19_29_54.csv\n",
      "reflist_8.olpn\n",
      "ano_APTags-TagsAutomatedProcess-2019-11-07-18_21_44.csv\n",
      "reflist_4.olpn\n",
      "ano_APTags-TagsAutomatedProcess-2019-11-07-18_30_01.csv\n",
      "ano_APTags-TagsAutomatedProcess-2019-11-07-18_13_30.csv\n",
      "reflist_5.olpn\n",
      "reflist_9.olpn\n",
      "reflist_2.olpn\n",
      "ano_APTags-TagsAutomatedProcess-2019-11-07-17_32_19.csv\n",
      "ano_APTags-TagsAutomatedProcess-2019-11-07-17_16_18.csv\n",
      "ano_APTags-TagsAutomatedProcess-2019-11-07-16_57_34.csv\n",
      "ano_APTags-TagsAutomatedProcess-2019-11-07-19_20_14.csv\n",
      "reflist_3.olpn\n"
     ]
    },
    {
     "data": {
      "text/plain": "                    LogTime      Epc  Rssi  Ant  loc\n0       2019-11-07 15:32:10   epc_92 -69.0    4  out\n1       2019-11-07 15:32:10  epc_100 -69.0    3  out\n2       2019-11-07 15:32:10   epc_97 -69.0    3  out\n3       2019-11-07 15:32:10   epc_97 -65.0    3  out\n4       2019-11-07 15:32:10   epc_99 -70.0    3  out\n...                     ...      ...   ...  ...  ...\n1203998 2019-11-07 19:44:02  epc_109 -68.0    1   in\n1203999 2019-11-07 19:44:02  epc_122 -68.0    1   in\n1204000 2019-11-07 19:44:02  epc_109 -67.0    1   in\n1204001 2019-11-07 19:44:03  epc_109 -69.0    1   in\n1204002 2019-11-07 19:51:04  epc_193 -75.0    1   in\n\n[1204003 rows x 5 columns]",
      "text/html": "<div>\n<style scoped>\n    .dataframe tbody tr th:only-of-type {\n        vertical-align: middle;\n    }\n\n    .dataframe tbody tr th {\n        vertical-align: top;\n    }\n\n    .dataframe thead th {\n        text-align: right;\n    }\n</style>\n<table border=\"1\" class=\"dataframe\">\n  <thead>\n    <tr style=\"text-align: right;\">\n      <th></th>\n      <th>LogTime</th>\n      <th>Epc</th>\n      <th>Rssi</th>\n      <th>Ant</th>\n      <th>loc</th>\n    </tr>\n  </thead>\n  <tbody>\n    <tr>\n      <th>0</th>\n      <td>2019-11-07 15:32:10</td>\n      <td>epc_92</td>\n      <td>-69.0</td>\n      <td>4</td>\n      <td>out</td>\n    </tr>\n    <tr>\n      <th>1</th>\n      <td>2019-11-07 15:32:10</td>\n      <td>epc_100</td>\n      <td>-69.0</td>\n      <td>3</td>\n      <td>out</td>\n    </tr>\n    <tr>\n      <th>2</th>\n      <td>2019-11-07 15:32:10</td>\n      <td>epc_97</td>\n      <td>-69.0</td>\n      <td>3</td>\n      <td>out</td>\n    </tr>\n    <tr>\n      <th>3</th>\n      <td>2019-11-07 15:32:10</td>\n      <td>epc_97</td>\n      <td>-65.0</td>\n      <td>3</td>\n      <td>out</td>\n    </tr>\n    <tr>\n      <th>4</th>\n      <td>2019-11-07 15:32:10</td>\n      <td>epc_99</td>\n      <td>-70.0</td>\n      <td>3</td>\n      <td>out</td>\n    </tr>\n    <tr>\n      <th>...</th>\n      <td>...</td>\n      <td>...</td>\n      <td>...</td>\n      <td>...</td>\n      <td>...</td>\n    </tr>\n    <tr>\n      <th>1203998</th>\n      <td>2019-11-07 19:44:02</td>\n      <td>epc_109</td>\n      <td>-68.0</td>\n      <td>1</td>\n      <td>in</td>\n    </tr>\n    <tr>\n      <th>1203999</th>\n      <td>2019-11-07 19:44:02</td>\n      <td>epc_122</td>\n      <td>-68.0</td>\n      <td>1</td>\n      <td>in</td>\n    </tr>\n    <tr>\n      <th>1204000</th>\n      <td>2019-11-07 19:44:02</td>\n      <td>epc_109</td>\n      <td>-67.0</td>\n      <td>1</td>\n      <td>in</td>\n    </tr>\n    <tr>\n      <th>1204001</th>\n      <td>2019-11-07 19:44:03</td>\n      <td>epc_109</td>\n      <td>-69.0</td>\n      <td>1</td>\n      <td>in</td>\n    </tr>\n    <tr>\n      <th>1204002</th>\n      <td>2019-11-07 19:51:04</td>\n      <td>epc_193</td>\n      <td>-75.0</td>\n      <td>1</td>\n      <td>in</td>\n    </tr>\n  </tbody>\n</table>\n<p>1204003 rows × 5 columns</p>\n</div>"
     },
     "execution_count": 81,
     "metadata": {},
     "output_type": "execute_result"
    }
   ],
   "source": [
    "# pathfile=r'data_anonymous'\n",
    "# \n",
    "# df : rfid readings\n",
    "df=pd.DataFrame()\n",
    "# \n",
    "files=os.listdir(pathfile)\n",
    "for file in files:\n",
    "    print(file)\n",
    "    if file.startswith('ano_APTags'):\n",
    "        temp=pd.read_csv(os.path.join(pathfile,file),sep=',')\n",
    "        df=df.append(temp)\n",
    "df['LogTime']=pd.to_datetime(df['LogTime'] ,format='%Y-%m-%d-%H:%M:%S')\n",
    "df['TimeStamp']=df['TimeStamp'].astype(float)\n",
    "df['Rssi']=df['Rssi'].astype(float)\n",
    "df=df.drop(['Reader','EmitPower','Frequency'],axis=1).reset_index(drop=True)\n",
    "df=df[['LogTime', 'Epc', 'Rssi', 'Ant']]\n",
    "# antennas 1 and 2 are facing the box when photocell in/out \n",
    "Ant_loc=pd.DataFrame({'Ant':[1,2,3,4],'loc':['in','in','out','out']})\n",
    "df=pd.merge(df,Ant_loc,on=['Ant'])\n",
    "df=df.sort_values('LogTime').reset_index(drop=True)\n",
    "df"
   ]
  },
  {
   "cell_type": "code",
   "execution_count": 82,
   "metadata": {
    "colab": {
     "base_uri": "https://localhost:8080/",
     "height": 34
    },
    "colab_type": "code",
    "executionInfo": {
     "elapsed": 618,
     "status": "ok",
     "timestamp": 1588018768030,
     "user": {
      "displayName": "Christophe Loussert",
      "photoUrl": "",
      "userId": "16796903251132996478"
     },
     "user_tz": -120
    },
    "id": "KSYWAcS60JXd",
    "outputId": "52427d96-0e6a-4e3e-f7d4-393e1ee86a71"
   },
   "outputs": [
    {
     "data": {
      "text/plain": "1204003"
     },
     "execution_count": 82,
     "metadata": {},
     "output_type": "execute_result"
    }
   ],
   "source": [
    "len(df)"
   ]
  },
  {
   "cell_type": "markdown",
   "source": [],
   "metadata": {
    "collapsed": false
   }
  },
  {
   "cell_type": "code",
   "execution_count": 83,
   "metadata": {
    "colab": {
     "base_uri": "https://localhost:8080/",
     "height": 77
    },
    "colab_type": "code",
    "executionInfo": {
     "elapsed": 837,
     "status": "ok",
     "timestamp": 1588018773742,
     "user": {
      "displayName": "Christophe Loussert",
      "photoUrl": "",
      "userId": "16796903251132996478"
     },
     "user_tz": -120
    },
    "id": "8ciZZ5BQ0JXp",
    "outputId": "1be94192-5dbe-47d4-d628-655e57465e10"
   },
   "outputs": [
    {
     "name": "stderr",
     "output_type": "stream",
     "text": [
      "/var/folders/6n/7q_b9g2s03b1blt5jrv9x6000000gn/T/ipykernel_1889/3328896993.py:11: DeprecationWarning: In a future version, `df.iloc[:, i] = newvals` will attempt to set the values inplace instead of always setting a new array. To retain the old behavior, use either `df[df.columns[i]] = newvals` or, if columns are non-unique, `df.isetitem(i, newvals)`\n",
      "  timing.loc[:,'refListId']=timing.loc[:,'refListId'].apply(lambda x:int(x[8:]))\n"
     ]
    },
    {
     "data": {
      "text/plain": "     refListId              ciuchStart               ciuchStop\n0            0 2019-11-07 18:53:52.370 2019-11-07 18:53:54.197\n1            1 2019-11-07 18:54:02.637 2019-11-07 18:54:04.463\n2            2 2019-11-07 18:54:13.587 2019-11-07 18:54:15.447\n3            3 2019-11-07 18:54:17.942 2019-11-07 18:54:19.591\n4            4 2019-11-07 18:54:23.683 2019-11-07 18:54:25.528\n..         ...                     ...                     ...\n384          7 2019-11-07 19:34:22.740 2019-11-07 19:34:24.686\n385          8 2019-11-07 19:34:27.950 2019-11-07 19:34:29.670\n386          9 2019-11-07 19:34:33.696 2019-11-07 19:34:35.671\n387          0 2019-11-07 19:34:39.687 2019-11-07 19:34:41.624\n388          1 2019-11-07 19:34:46.836 2019-11-07 19:34:48.639\n\n[389 rows x 3 columns]",
      "text/html": "<div>\n<style scoped>\n    .dataframe tbody tr th:only-of-type {\n        vertical-align: middle;\n    }\n\n    .dataframe tbody tr th {\n        vertical-align: top;\n    }\n\n    .dataframe thead th {\n        text-align: right;\n    }\n</style>\n<table border=\"1\" class=\"dataframe\">\n  <thead>\n    <tr style=\"text-align: right;\">\n      <th></th>\n      <th>refListId</th>\n      <th>ciuchStart</th>\n      <th>ciuchStop</th>\n    </tr>\n  </thead>\n  <tbody>\n    <tr>\n      <th>0</th>\n      <td>0</td>\n      <td>2019-11-07 18:53:52.370</td>\n      <td>2019-11-07 18:53:54.197</td>\n    </tr>\n    <tr>\n      <th>1</th>\n      <td>1</td>\n      <td>2019-11-07 18:54:02.637</td>\n      <td>2019-11-07 18:54:04.463</td>\n    </tr>\n    <tr>\n      <th>2</th>\n      <td>2</td>\n      <td>2019-11-07 18:54:13.587</td>\n      <td>2019-11-07 18:54:15.447</td>\n    </tr>\n    <tr>\n      <th>3</th>\n      <td>3</td>\n      <td>2019-11-07 18:54:17.942</td>\n      <td>2019-11-07 18:54:19.591</td>\n    </tr>\n    <tr>\n      <th>4</th>\n      <td>4</td>\n      <td>2019-11-07 18:54:23.683</td>\n      <td>2019-11-07 18:54:25.528</td>\n    </tr>\n    <tr>\n      <th>...</th>\n      <td>...</td>\n      <td>...</td>\n      <td>...</td>\n    </tr>\n    <tr>\n      <th>384</th>\n      <td>7</td>\n      <td>2019-11-07 19:34:22.740</td>\n      <td>2019-11-07 19:34:24.686</td>\n    </tr>\n    <tr>\n      <th>385</th>\n      <td>8</td>\n      <td>2019-11-07 19:34:27.950</td>\n      <td>2019-11-07 19:34:29.670</td>\n    </tr>\n    <tr>\n      <th>386</th>\n      <td>9</td>\n      <td>2019-11-07 19:34:33.696</td>\n      <td>2019-11-07 19:34:35.671</td>\n    </tr>\n    <tr>\n      <th>387</th>\n      <td>0</td>\n      <td>2019-11-07 19:34:39.687</td>\n      <td>2019-11-07 19:34:41.624</td>\n    </tr>\n    <tr>\n      <th>388</th>\n      <td>1</td>\n      <td>2019-11-07 19:34:46.836</td>\n      <td>2019-11-07 19:34:48.639</td>\n    </tr>\n  </tbody>\n</table>\n<p>389 rows × 3 columns</p>\n</div>"
     },
     "execution_count": 83,
     "metadata": {},
     "output_type": "execute_result"
    }
   ],
   "source": [
    "# timing: photocells a time window for each box: start/stop (ciuchStart, ciuchStop)\n",
    "file=r'ano_supply-process.2019-11-07-CUT.csv'\n",
    "timing=pd.read_csv(os.path.join(pathfile,file),sep=',')\n",
    "timing['file']=file\n",
    "timing['date']=pd.to_datetime(timing['date'],format='%d/%m/%Y %H:%M:%S,%f')\n",
    "timing['ciuchStart']=pd.to_datetime(timing['ciuchStart'],format='%d/%m/%Y %H:%M:%S,%f')\n",
    "timing['ciuchStop']=pd.to_datetime(timing['ciuchStop'],format='%d/%m/%Y %H:%M:%S,%f')\n",
    "timing['timestampStart']=timing['timestampStart'].astype(float)\n",
    "timing['timestampStop']=timing['timestampStop'].astype(float)\n",
    "timing=timing.sort_values('date')\n",
    "timing.loc[:,'refListId']=timing.loc[:,'refListId'].apply(lambda x:int(x[8:]))\n",
    "timing=timing[['refListId', 'ciuchStart', 'ciuchStop']]\n",
    "timing[:1]\n",
    "timing"
   ]
  },
  {
   "cell_type": "code",
   "execution_count": 84,
   "metadata": {
    "colab": {
     "base_uri": "https://localhost:8080/",
     "height": 34
    },
    "colab_type": "code",
    "executionInfo": {
     "elapsed": 949,
     "status": "ok",
     "timestamp": 1588018781598,
     "user": {
      "displayName": "Christophe Loussert",
      "photoUrl": "",
      "userId": "16796903251132996478"
     },
     "user_tz": -120
    },
    "id": "v_bnj4-u0JX6",
    "outputId": "2003a15e-4cbb-4acb-abfe-d34067e36965"
   },
   "outputs": [
    {
     "data": {
      "text/plain": "389"
     },
     "execution_count": 84,
     "metadata": {},
     "output_type": "execute_result"
    }
   ],
   "source": [
    "len(timing)"
   ]
  },
  {
   "cell_type": "code",
   "execution_count": 85,
   "metadata": {
    "colab": {
     "base_uri": "https://localhost:8080/",
     "height": 402
    },
    "colab_type": "code",
    "executionInfo": {
     "elapsed": 591,
     "status": "ok",
     "timestamp": 1588018783417,
     "user": {
      "displayName": "Christophe Loussert",
      "photoUrl": "",
      "userId": "16796903251132996478"
     },
     "user_tz": -120
    },
    "id": "jFXeiAUk0JX-",
    "outputId": "7c653a87-c0ce-438f-e0b5-46bb97d94697"
   },
   "outputs": [
    {
     "data": {
      "text/plain": "    refListId              ciuchStart               ciuchStop\n0           0 2019-11-07 18:53:52.370 2019-11-07 18:53:54.197\n1           1 2019-11-07 18:54:02.637 2019-11-07 18:54:04.463\n2           2 2019-11-07 18:54:13.587 2019-11-07 18:54:15.447\n3           3 2019-11-07 18:54:17.942 2019-11-07 18:54:19.591\n4           4 2019-11-07 18:54:23.683 2019-11-07 18:54:25.528\n5           5 2019-11-07 18:54:29.422 2019-11-07 18:54:31.278\n6           6 2019-11-07 18:54:34.953 2019-11-07 18:54:36.685\n7           7 2019-11-07 18:54:40.829 2019-11-07 18:54:42.611\n8           8 2019-11-07 18:54:46.383 2019-11-07 18:54:48.158\n9           9 2019-11-07 18:54:52.122 2019-11-07 18:54:54.051\n10          0 2019-11-07 18:54:57.738 2019-11-07 18:54:59.584\n11          1 2019-11-07 18:55:03.946 2019-11-07 18:55:05.694",
      "text/html": "<div>\n<style scoped>\n    .dataframe tbody tr th:only-of-type {\n        vertical-align: middle;\n    }\n\n    .dataframe tbody tr th {\n        vertical-align: top;\n    }\n\n    .dataframe thead th {\n        text-align: right;\n    }\n</style>\n<table border=\"1\" class=\"dataframe\">\n  <thead>\n    <tr style=\"text-align: right;\">\n      <th></th>\n      <th>refListId</th>\n      <th>ciuchStart</th>\n      <th>ciuchStop</th>\n    </tr>\n  </thead>\n  <tbody>\n    <tr>\n      <th>0</th>\n      <td>0</td>\n      <td>2019-11-07 18:53:52.370</td>\n      <td>2019-11-07 18:53:54.197</td>\n    </tr>\n    <tr>\n      <th>1</th>\n      <td>1</td>\n      <td>2019-11-07 18:54:02.637</td>\n      <td>2019-11-07 18:54:04.463</td>\n    </tr>\n    <tr>\n      <th>2</th>\n      <td>2</td>\n      <td>2019-11-07 18:54:13.587</td>\n      <td>2019-11-07 18:54:15.447</td>\n    </tr>\n    <tr>\n      <th>3</th>\n      <td>3</td>\n      <td>2019-11-07 18:54:17.942</td>\n      <td>2019-11-07 18:54:19.591</td>\n    </tr>\n    <tr>\n      <th>4</th>\n      <td>4</td>\n      <td>2019-11-07 18:54:23.683</td>\n      <td>2019-11-07 18:54:25.528</td>\n    </tr>\n    <tr>\n      <th>5</th>\n      <td>5</td>\n      <td>2019-11-07 18:54:29.422</td>\n      <td>2019-11-07 18:54:31.278</td>\n    </tr>\n    <tr>\n      <th>6</th>\n      <td>6</td>\n      <td>2019-11-07 18:54:34.953</td>\n      <td>2019-11-07 18:54:36.685</td>\n    </tr>\n    <tr>\n      <th>7</th>\n      <td>7</td>\n      <td>2019-11-07 18:54:40.829</td>\n      <td>2019-11-07 18:54:42.611</td>\n    </tr>\n    <tr>\n      <th>8</th>\n      <td>8</td>\n      <td>2019-11-07 18:54:46.383</td>\n      <td>2019-11-07 18:54:48.158</td>\n    </tr>\n    <tr>\n      <th>9</th>\n      <td>9</td>\n      <td>2019-11-07 18:54:52.122</td>\n      <td>2019-11-07 18:54:54.051</td>\n    </tr>\n    <tr>\n      <th>10</th>\n      <td>0</td>\n      <td>2019-11-07 18:54:57.738</td>\n      <td>2019-11-07 18:54:59.584</td>\n    </tr>\n    <tr>\n      <th>11</th>\n      <td>1</td>\n      <td>2019-11-07 18:55:03.946</td>\n      <td>2019-11-07 18:55:05.694</td>\n    </tr>\n  </tbody>\n</table>\n</div>"
     },
     "execution_count": 85,
     "metadata": {},
     "output_type": "execute_result"
    }
   ],
   "source": [
    "timing[:12]"
   ]
  },
  {
   "cell_type": "code",
   "execution_count": 86,
   "metadata": {
    "colab": {
     "base_uri": "https://localhost:8080/",
     "height": 195
    },
    "colab_type": "code",
    "executionInfo": {
     "elapsed": 949,
     "status": "ok",
     "timestamp": 1588018786598,
     "user": {
      "displayName": "Christophe Loussert",
      "photoUrl": "",
      "userId": "16796903251132996478"
     },
     "user_tz": -120
    },
    "id": "AtREKFSo0JXw",
    "outputId": "24cb199d-259b-413a-cb7e-9ff6f6028ad6"
   },
   "outputs": [
    {
     "data": {
      "text/plain": "     refListId  refListId_last               ciuchStartup  \\\n0            0               0 2019-11-07 18:53:42.370000   \n1            1               0 2019-11-07 18:53:58.417000   \n2            2               1 2019-11-07 18:54:09.025000   \n3            3               2 2019-11-07 18:54:16.694500   \n4            4               3 2019-11-07 18:54:21.637000   \n..         ...             ...                        ...   \n384          7               6 2019-11-07 19:34:20.697500   \n385          8               7 2019-11-07 19:34:26.318000   \n386          9               8 2019-11-07 19:34:31.683000   \n387          0               9 2019-11-07 19:34:37.679000   \n388          1               0 2019-11-07 19:34:44.230000   \n\n                 ciuchStart               ciuchStop              ciuchStopdown  \n0   2019-11-07 18:53:52.370 2019-11-07 18:53:54.197 2019-11-07 18:53:58.417000  \n1   2019-11-07 18:54:02.637 2019-11-07 18:54:04.463 2019-11-07 18:54:09.025000  \n2   2019-11-07 18:54:13.587 2019-11-07 18:54:15.447 2019-11-07 18:54:16.694500  \n3   2019-11-07 18:54:17.942 2019-11-07 18:54:19.591 2019-11-07 18:54:21.637000  \n4   2019-11-07 18:54:23.683 2019-11-07 18:54:25.528 2019-11-07 18:54:27.475000  \n..                      ...                     ...                        ...  \n384 2019-11-07 19:34:22.740 2019-11-07 19:34:24.686 2019-11-07 19:34:26.318000  \n385 2019-11-07 19:34:27.950 2019-11-07 19:34:29.670 2019-11-07 19:34:31.683000  \n386 2019-11-07 19:34:33.696 2019-11-07 19:34:35.671 2019-11-07 19:34:37.679000  \n387 2019-11-07 19:34:39.687 2019-11-07 19:34:41.624 2019-11-07 19:34:44.230000  \n388 2019-11-07 19:34:46.836 2019-11-07 19:34:48.639 2019-11-07 19:34:58.639000  \n\n[389 rows x 6 columns]",
      "text/html": "<div>\n<style scoped>\n    .dataframe tbody tr th:only-of-type {\n        vertical-align: middle;\n    }\n\n    .dataframe tbody tr th {\n        vertical-align: top;\n    }\n\n    .dataframe thead th {\n        text-align: right;\n    }\n</style>\n<table border=\"1\" class=\"dataframe\">\n  <thead>\n    <tr style=\"text-align: right;\">\n      <th></th>\n      <th>refListId</th>\n      <th>refListId_last</th>\n      <th>ciuchStartup</th>\n      <th>ciuchStart</th>\n      <th>ciuchStop</th>\n      <th>ciuchStopdown</th>\n    </tr>\n  </thead>\n  <tbody>\n    <tr>\n      <th>0</th>\n      <td>0</td>\n      <td>0</td>\n      <td>2019-11-07 18:53:42.370000</td>\n      <td>2019-11-07 18:53:52.370</td>\n      <td>2019-11-07 18:53:54.197</td>\n      <td>2019-11-07 18:53:58.417000</td>\n    </tr>\n    <tr>\n      <th>1</th>\n      <td>1</td>\n      <td>0</td>\n      <td>2019-11-07 18:53:58.417000</td>\n      <td>2019-11-07 18:54:02.637</td>\n      <td>2019-11-07 18:54:04.463</td>\n      <td>2019-11-07 18:54:09.025000</td>\n    </tr>\n    <tr>\n      <th>2</th>\n      <td>2</td>\n      <td>1</td>\n      <td>2019-11-07 18:54:09.025000</td>\n      <td>2019-11-07 18:54:13.587</td>\n      <td>2019-11-07 18:54:15.447</td>\n      <td>2019-11-07 18:54:16.694500</td>\n    </tr>\n    <tr>\n      <th>3</th>\n      <td>3</td>\n      <td>2</td>\n      <td>2019-11-07 18:54:16.694500</td>\n      <td>2019-11-07 18:54:17.942</td>\n      <td>2019-11-07 18:54:19.591</td>\n      <td>2019-11-07 18:54:21.637000</td>\n    </tr>\n    <tr>\n      <th>4</th>\n      <td>4</td>\n      <td>3</td>\n      <td>2019-11-07 18:54:21.637000</td>\n      <td>2019-11-07 18:54:23.683</td>\n      <td>2019-11-07 18:54:25.528</td>\n      <td>2019-11-07 18:54:27.475000</td>\n    </tr>\n    <tr>\n      <th>...</th>\n      <td>...</td>\n      <td>...</td>\n      <td>...</td>\n      <td>...</td>\n      <td>...</td>\n      <td>...</td>\n    </tr>\n    <tr>\n      <th>384</th>\n      <td>7</td>\n      <td>6</td>\n      <td>2019-11-07 19:34:20.697500</td>\n      <td>2019-11-07 19:34:22.740</td>\n      <td>2019-11-07 19:34:24.686</td>\n      <td>2019-11-07 19:34:26.318000</td>\n    </tr>\n    <tr>\n      <th>385</th>\n      <td>8</td>\n      <td>7</td>\n      <td>2019-11-07 19:34:26.318000</td>\n      <td>2019-11-07 19:34:27.950</td>\n      <td>2019-11-07 19:34:29.670</td>\n      <td>2019-11-07 19:34:31.683000</td>\n    </tr>\n    <tr>\n      <th>386</th>\n      <td>9</td>\n      <td>8</td>\n      <td>2019-11-07 19:34:31.683000</td>\n      <td>2019-11-07 19:34:33.696</td>\n      <td>2019-11-07 19:34:35.671</td>\n      <td>2019-11-07 19:34:37.679000</td>\n    </tr>\n    <tr>\n      <th>387</th>\n      <td>0</td>\n      <td>9</td>\n      <td>2019-11-07 19:34:37.679000</td>\n      <td>2019-11-07 19:34:39.687</td>\n      <td>2019-11-07 19:34:41.624</td>\n      <td>2019-11-07 19:34:44.230000</td>\n    </tr>\n    <tr>\n      <th>388</th>\n      <td>1</td>\n      <td>0</td>\n      <td>2019-11-07 19:34:44.230000</td>\n      <td>2019-11-07 19:34:46.836</td>\n      <td>2019-11-07 19:34:48.639</td>\n      <td>2019-11-07 19:34:58.639000</td>\n    </tr>\n  </tbody>\n</table>\n<p>389 rows × 6 columns</p>\n</div>"
     },
     "execution_count": 86,
     "metadata": {},
     "output_type": "execute_result"
    }
   ],
   "source": [
    "# ciuchStart_up starts upstream ciuchStart, half way in between the previous stop and the actual start\n",
    "timing[['ciuchStop_last']]=timing[['ciuchStop']].shift(1) #Décale les index de 1\n",
    "timing[['refListId_last']]=timing[['refListId']].shift(1)\n",
    "timing['ciuchStartup']=timing['ciuchStart'] - (timing['ciuchStart'] - timing['ciuchStop_last'])/2\n",
    "# timing start: 10sec before timing\n",
    "timing.loc[0,'refListId_last']=timing.loc[0,'refListId']\n",
    "timing.loc[0,'ciuchStartup']=timing.loc[0,'ciuchStart']-datetime.timedelta(seconds=10)\n",
    "timing.loc[0,'ciuchStop_last']=timing.loc[0,'ciuchStartup']-datetime.timedelta(seconds=10)\n",
    "timing['refListId_last']=timing['refListId_last'].astype(int)\n",
    "# \n",
    "timing['ciuchStopdown']= timing['ciuchStartup'].shift(-1)\n",
    "timing.loc[len(timing)-1,'ciuchStopdown']=timing.loc[len(timing)-1,'ciuchStop']+datetime.timedelta(seconds=10)\n",
    "timing=timing[['refListId', 'refListId_last','ciuchStartup', 'ciuchStart','ciuchStop','ciuchStopdown']]\n",
    "timing"
   ]
  },
  {
   "cell_type": "code",
   "execution_count": 87,
   "metadata": {
    "colab": {
     "base_uri": "https://localhost:8080/",
     "height": 195
    },
    "colab_type": "code",
    "executionInfo": {
     "elapsed": 1002,
     "status": "ok",
     "timestamp": 1588018792544,
     "user": {
      "displayName": "Christophe Loussert",
      "photoUrl": "",
      "userId": "16796903251132996478"
     },
     "user_tz": -120
    },
    "id": "2X_jsFDG0JYD",
    "outputId": "d926a32f-3b96-4045-b559-870feefe64ad",
    "scrolled": true
   },
   "outputs": [
    {
     "data": {
      "text/plain": "    refListId  refListId_last               ciuchStartup  \\\n0           0               0 2019-11-07 18:53:42.370000   \n10          0               9 2019-11-07 18:54:55.894500   \n20          0               9 2019-11-07 18:55:53.460500   \n30          0               9 2019-11-07 18:56:51.317000   \n40          0               9 2019-11-07 18:58:02.390500   \n\n                ciuchStart               ciuchStop              ciuchStopdown  \n0  2019-11-07 18:53:52.370 2019-11-07 18:53:54.197 2019-11-07 18:53:58.417000  \n10 2019-11-07 18:54:57.738 2019-11-07 18:54:59.584 2019-11-07 18:55:01.765000  \n20 2019-11-07 18:55:55.497 2019-11-07 18:55:57.377 2019-11-07 18:55:59.567500  \n30 2019-11-07 18:56:53.344 2019-11-07 18:56:55.215 2019-11-07 18:56:57.241500  \n40 2019-11-07 18:58:04.351 2019-11-07 18:58:06.212 2019-11-07 18:58:11.428000  ",
      "text/html": "<div>\n<style scoped>\n    .dataframe tbody tr th:only-of-type {\n        vertical-align: middle;\n    }\n\n    .dataframe tbody tr th {\n        vertical-align: top;\n    }\n\n    .dataframe thead th {\n        text-align: right;\n    }\n</style>\n<table border=\"1\" class=\"dataframe\">\n  <thead>\n    <tr style=\"text-align: right;\">\n      <th></th>\n      <th>refListId</th>\n      <th>refListId_last</th>\n      <th>ciuchStartup</th>\n      <th>ciuchStart</th>\n      <th>ciuchStop</th>\n      <th>ciuchStopdown</th>\n    </tr>\n  </thead>\n  <tbody>\n    <tr>\n      <th>0</th>\n      <td>0</td>\n      <td>0</td>\n      <td>2019-11-07 18:53:42.370000</td>\n      <td>2019-11-07 18:53:52.370</td>\n      <td>2019-11-07 18:53:54.197</td>\n      <td>2019-11-07 18:53:58.417000</td>\n    </tr>\n    <tr>\n      <th>10</th>\n      <td>0</td>\n      <td>9</td>\n      <td>2019-11-07 18:54:55.894500</td>\n      <td>2019-11-07 18:54:57.738</td>\n      <td>2019-11-07 18:54:59.584</td>\n      <td>2019-11-07 18:55:01.765000</td>\n    </tr>\n    <tr>\n      <th>20</th>\n      <td>0</td>\n      <td>9</td>\n      <td>2019-11-07 18:55:53.460500</td>\n      <td>2019-11-07 18:55:55.497</td>\n      <td>2019-11-07 18:55:57.377</td>\n      <td>2019-11-07 18:55:59.567500</td>\n    </tr>\n    <tr>\n      <th>30</th>\n      <td>0</td>\n      <td>9</td>\n      <td>2019-11-07 18:56:51.317000</td>\n      <td>2019-11-07 18:56:53.344</td>\n      <td>2019-11-07 18:56:55.215</td>\n      <td>2019-11-07 18:56:57.241500</td>\n    </tr>\n    <tr>\n      <th>40</th>\n      <td>0</td>\n      <td>9</td>\n      <td>2019-11-07 18:58:02.390500</td>\n      <td>2019-11-07 18:58:04.351</td>\n      <td>2019-11-07 18:58:06.212</td>\n      <td>2019-11-07 18:58:11.428000</td>\n    </tr>\n  </tbody>\n</table>\n</div>"
     },
     "execution_count": 87,
     "metadata": {},
     "output_type": "execute_result"
    }
   ],
   "source": [
    "# box 0 always starts\n",
    "timing[timing['refListId']==0].head()"
   ]
  },
  {
   "cell_type": "code",
   "execution_count": 88,
   "metadata": {
    "colab": {
     "base_uri": "https://localhost:8080/",
     "height": 195
    },
    "colab_type": "code",
    "executionInfo": {
     "elapsed": 557,
     "status": "ok",
     "timestamp": 1588018806550,
     "user": {
      "displayName": "Christophe Loussert",
      "photoUrl": "",
      "userId": "16796903251132996478"
     },
     "user_tz": -120
    },
    "id": "krWhva-Z0JYH",
    "outputId": "55c1d5bd-24e0-466e-a962-74cc11fecc0f"
   },
   "outputs": [
    {
     "data": {
      "text/plain": "   run  refListId  refListId_last               ciuchStartup  \\\n0    1          0               0 2019-11-07 18:53:42.370000   \n1    1          1               0 2019-11-07 18:53:58.417000   \n2    1          2               1 2019-11-07 18:54:09.025000   \n3    1          3               2 2019-11-07 18:54:16.694500   \n4    1          4               3 2019-11-07 18:54:21.637000   \n\n               ciuchStart               ciuchStop              ciuchStopdown  \\\n0 2019-11-07 18:53:52.370 2019-11-07 18:53:54.197 2019-11-07 18:53:58.417000   \n1 2019-11-07 18:54:02.637 2019-11-07 18:54:04.463 2019-11-07 18:54:09.025000   \n2 2019-11-07 18:54:13.587 2019-11-07 18:54:15.447 2019-11-07 18:54:16.694500   \n3 2019-11-07 18:54:17.942 2019-11-07 18:54:19.591 2019-11-07 18:54:21.637000   \n4 2019-11-07 18:54:23.683 2019-11-07 18:54:25.528 2019-11-07 18:54:27.475000   \n\n                   t0_run  \n0 2019-11-07 18:53:42.370  \n1 2019-11-07 18:53:42.370  \n2 2019-11-07 18:53:42.370  \n3 2019-11-07 18:53:42.370  \n4 2019-11-07 18:53:42.370  ",
      "text/html": "<div>\n<style scoped>\n    .dataframe tbody tr th:only-of-type {\n        vertical-align: middle;\n    }\n\n    .dataframe tbody tr th {\n        vertical-align: top;\n    }\n\n    .dataframe thead th {\n        text-align: right;\n    }\n</style>\n<table border=\"1\" class=\"dataframe\">\n  <thead>\n    <tr style=\"text-align: right;\">\n      <th></th>\n      <th>run</th>\n      <th>refListId</th>\n      <th>refListId_last</th>\n      <th>ciuchStartup</th>\n      <th>ciuchStart</th>\n      <th>ciuchStop</th>\n      <th>ciuchStopdown</th>\n      <th>t0_run</th>\n    </tr>\n  </thead>\n  <tbody>\n    <tr>\n      <th>0</th>\n      <td>1</td>\n      <td>0</td>\n      <td>0</td>\n      <td>2019-11-07 18:53:42.370000</td>\n      <td>2019-11-07 18:53:52.370</td>\n      <td>2019-11-07 18:53:54.197</td>\n      <td>2019-11-07 18:53:58.417000</td>\n      <td>2019-11-07 18:53:42.370</td>\n    </tr>\n    <tr>\n      <th>1</th>\n      <td>1</td>\n      <td>1</td>\n      <td>0</td>\n      <td>2019-11-07 18:53:58.417000</td>\n      <td>2019-11-07 18:54:02.637</td>\n      <td>2019-11-07 18:54:04.463</td>\n      <td>2019-11-07 18:54:09.025000</td>\n      <td>2019-11-07 18:53:42.370</td>\n    </tr>\n    <tr>\n      <th>2</th>\n      <td>1</td>\n      <td>2</td>\n      <td>1</td>\n      <td>2019-11-07 18:54:09.025000</td>\n      <td>2019-11-07 18:54:13.587</td>\n      <td>2019-11-07 18:54:15.447</td>\n      <td>2019-11-07 18:54:16.694500</td>\n      <td>2019-11-07 18:53:42.370</td>\n    </tr>\n    <tr>\n      <th>3</th>\n      <td>1</td>\n      <td>3</td>\n      <td>2</td>\n      <td>2019-11-07 18:54:16.694500</td>\n      <td>2019-11-07 18:54:17.942</td>\n      <td>2019-11-07 18:54:19.591</td>\n      <td>2019-11-07 18:54:21.637000</td>\n      <td>2019-11-07 18:53:42.370</td>\n    </tr>\n    <tr>\n      <th>4</th>\n      <td>1</td>\n      <td>4</td>\n      <td>3</td>\n      <td>2019-11-07 18:54:21.637000</td>\n      <td>2019-11-07 18:54:23.683</td>\n      <td>2019-11-07 18:54:25.528</td>\n      <td>2019-11-07 18:54:27.475000</td>\n      <td>2019-11-07 18:53:42.370</td>\n    </tr>\n  </tbody>\n</table>\n</div>"
     },
     "execution_count": 88,
     "metadata": {},
     "output_type": "execute_result"
    }
   ],
   "source": [
    "# t0_run = a new run starts when box 0 shows up\n",
    "t0_run=timing[timing['refListId']==0] [['ciuchStartup']]\n",
    "t0_run=t0_run.rename(columns={'ciuchStartup':'t0_run'})\n",
    "t0_run=t0_run.groupby('t0_run').size().cumsum().rename('run').reset_index(drop=False)\n",
    "t0_run=t0_run.sort_values('t0_run')\n",
    "# \n",
    "# each row in timing is merged with a last row in t0_run where t0_run (ciuchstart) <= timing (ciuchstart)\n",
    "timing=pd.merge_asof(timing,t0_run,left_on='ciuchStartup',right_on='t0_run', direction='backward')\n",
    "timing=timing.sort_values('ciuchStop')\n",
    "timing=timing[['run', 'refListId', 'refListId_last', 'ciuchStartup','ciuchStart','ciuchStop','ciuchStopdown','t0_run']]\n",
    "timing.head()"
   ]
  },
  {
   "cell_type": "code",
   "execution_count": 89,
   "metadata": {
    "colab": {
     "base_uri": "https://localhost:8080/",
     "height": 402
    },
    "colab_type": "code",
    "executionInfo": {
     "elapsed": 988,
     "status": "ok",
     "timestamp": 1588018815024,
     "user": {
      "displayName": "Christophe Loussert",
      "photoUrl": "",
      "userId": "16796903251132996478"
     },
     "user_tz": -120
    },
    "id": "JPC-PH0t0JYP",
    "outputId": "21ebc900-e0ad-4de8-864b-92d2c89400c1"
   },
   "outputs": [
    {
     "data": {
      "text/plain": "     run  refListId  refListId_last               ciuchStartup  \\\n0      1          0               0 2019-11-07 18:53:42.370000   \n1      1          1               0 2019-11-07 18:53:58.417000   \n2      1          2               1 2019-11-07 18:54:09.025000   \n3      1          3               2 2019-11-07 18:54:16.694500   \n4      1          4               3 2019-11-07 18:54:21.637000   \n..   ...        ...             ...                        ...   \n384   39          7               6 2019-11-07 19:34:20.697500   \n385   39          8               7 2019-11-07 19:34:26.318000   \n386   39          9               8 2019-11-07 19:34:31.683000   \n387   40          0               9 2019-11-07 19:34:37.679000   \n388   40          1               0 2019-11-07 19:34:44.230000   \n\n                 ciuchStart               ciuchStop  \\\n0   2019-11-07 18:53:52.370 2019-11-07 18:53:54.197   \n1   2019-11-07 18:54:02.637 2019-11-07 18:54:04.463   \n2   2019-11-07 18:54:13.587 2019-11-07 18:54:15.447   \n3   2019-11-07 18:54:17.942 2019-11-07 18:54:19.591   \n4   2019-11-07 18:54:23.683 2019-11-07 18:54:25.528   \n..                      ...                     ...   \n384 2019-11-07 19:34:22.740 2019-11-07 19:34:24.686   \n385 2019-11-07 19:34:27.950 2019-11-07 19:34:29.670   \n386 2019-11-07 19:34:33.696 2019-11-07 19:34:35.671   \n387 2019-11-07 19:34:39.687 2019-11-07 19:34:41.624   \n388 2019-11-07 19:34:46.836 2019-11-07 19:34:48.639   \n\n                 ciuchStopdown                     t0_run  \n0   2019-11-07 18:53:58.417000 2019-11-07 18:53:42.370000  \n1   2019-11-07 18:54:09.025000 2019-11-07 18:53:42.370000  \n2   2019-11-07 18:54:16.694500 2019-11-07 18:53:42.370000  \n3   2019-11-07 18:54:21.637000 2019-11-07 18:53:42.370000  \n4   2019-11-07 18:54:27.475000 2019-11-07 18:53:42.370000  \n..                         ...                        ...  \n384 2019-11-07 19:34:26.318000 2019-11-07 19:33:38.447500  \n385 2019-11-07 19:34:31.683000 2019-11-07 19:33:38.447500  \n386 2019-11-07 19:34:37.679000 2019-11-07 19:33:38.447500  \n387 2019-11-07 19:34:44.230000 2019-11-07 19:34:37.679000  \n388 2019-11-07 19:34:58.639000 2019-11-07 19:34:37.679000  \n\n[389 rows x 8 columns]",
      "text/html": "<div>\n<style scoped>\n    .dataframe tbody tr th:only-of-type {\n        vertical-align: middle;\n    }\n\n    .dataframe tbody tr th {\n        vertical-align: top;\n    }\n\n    .dataframe thead th {\n        text-align: right;\n    }\n</style>\n<table border=\"1\" class=\"dataframe\">\n  <thead>\n    <tr style=\"text-align: right;\">\n      <th></th>\n      <th>run</th>\n      <th>refListId</th>\n      <th>refListId_last</th>\n      <th>ciuchStartup</th>\n      <th>ciuchStart</th>\n      <th>ciuchStop</th>\n      <th>ciuchStopdown</th>\n      <th>t0_run</th>\n    </tr>\n  </thead>\n  <tbody>\n    <tr>\n      <th>0</th>\n      <td>1</td>\n      <td>0</td>\n      <td>0</td>\n      <td>2019-11-07 18:53:42.370000</td>\n      <td>2019-11-07 18:53:52.370</td>\n      <td>2019-11-07 18:53:54.197</td>\n      <td>2019-11-07 18:53:58.417000</td>\n      <td>2019-11-07 18:53:42.370000</td>\n    </tr>\n    <tr>\n      <th>1</th>\n      <td>1</td>\n      <td>1</td>\n      <td>0</td>\n      <td>2019-11-07 18:53:58.417000</td>\n      <td>2019-11-07 18:54:02.637</td>\n      <td>2019-11-07 18:54:04.463</td>\n      <td>2019-11-07 18:54:09.025000</td>\n      <td>2019-11-07 18:53:42.370000</td>\n    </tr>\n    <tr>\n      <th>2</th>\n      <td>1</td>\n      <td>2</td>\n      <td>1</td>\n      <td>2019-11-07 18:54:09.025000</td>\n      <td>2019-11-07 18:54:13.587</td>\n      <td>2019-11-07 18:54:15.447</td>\n      <td>2019-11-07 18:54:16.694500</td>\n      <td>2019-11-07 18:53:42.370000</td>\n    </tr>\n    <tr>\n      <th>3</th>\n      <td>1</td>\n      <td>3</td>\n      <td>2</td>\n      <td>2019-11-07 18:54:16.694500</td>\n      <td>2019-11-07 18:54:17.942</td>\n      <td>2019-11-07 18:54:19.591</td>\n      <td>2019-11-07 18:54:21.637000</td>\n      <td>2019-11-07 18:53:42.370000</td>\n    </tr>\n    <tr>\n      <th>4</th>\n      <td>1</td>\n      <td>4</td>\n      <td>3</td>\n      <td>2019-11-07 18:54:21.637000</td>\n      <td>2019-11-07 18:54:23.683</td>\n      <td>2019-11-07 18:54:25.528</td>\n      <td>2019-11-07 18:54:27.475000</td>\n      <td>2019-11-07 18:53:42.370000</td>\n    </tr>\n    <tr>\n      <th>...</th>\n      <td>...</td>\n      <td>...</td>\n      <td>...</td>\n      <td>...</td>\n      <td>...</td>\n      <td>...</td>\n      <td>...</td>\n      <td>...</td>\n    </tr>\n    <tr>\n      <th>384</th>\n      <td>39</td>\n      <td>7</td>\n      <td>6</td>\n      <td>2019-11-07 19:34:20.697500</td>\n      <td>2019-11-07 19:34:22.740</td>\n      <td>2019-11-07 19:34:24.686</td>\n      <td>2019-11-07 19:34:26.318000</td>\n      <td>2019-11-07 19:33:38.447500</td>\n    </tr>\n    <tr>\n      <th>385</th>\n      <td>39</td>\n      <td>8</td>\n      <td>7</td>\n      <td>2019-11-07 19:34:26.318000</td>\n      <td>2019-11-07 19:34:27.950</td>\n      <td>2019-11-07 19:34:29.670</td>\n      <td>2019-11-07 19:34:31.683000</td>\n      <td>2019-11-07 19:33:38.447500</td>\n    </tr>\n    <tr>\n      <th>386</th>\n      <td>39</td>\n      <td>9</td>\n      <td>8</td>\n      <td>2019-11-07 19:34:31.683000</td>\n      <td>2019-11-07 19:34:33.696</td>\n      <td>2019-11-07 19:34:35.671</td>\n      <td>2019-11-07 19:34:37.679000</td>\n      <td>2019-11-07 19:33:38.447500</td>\n    </tr>\n    <tr>\n      <th>387</th>\n      <td>40</td>\n      <td>0</td>\n      <td>9</td>\n      <td>2019-11-07 19:34:37.679000</td>\n      <td>2019-11-07 19:34:39.687</td>\n      <td>2019-11-07 19:34:41.624</td>\n      <td>2019-11-07 19:34:44.230000</td>\n      <td>2019-11-07 19:34:37.679000</td>\n    </tr>\n    <tr>\n      <th>388</th>\n      <td>40</td>\n      <td>1</td>\n      <td>0</td>\n      <td>2019-11-07 19:34:44.230000</td>\n      <td>2019-11-07 19:34:46.836</td>\n      <td>2019-11-07 19:34:48.639</td>\n      <td>2019-11-07 19:34:58.639000</td>\n      <td>2019-11-07 19:34:37.679000</td>\n    </tr>\n  </tbody>\n</table>\n<p>389 rows × 8 columns</p>\n</div>"
     },
     "execution_count": 89,
     "metadata": {},
     "output_type": "execute_result"
    }
   ],
   "source": [
    "timing"
   ]
  },
  {
   "cell_type": "code",
   "execution_count": 90,
   "metadata": {
    "colab": {
     "base_uri": "https://localhost:8080/",
     "height": 392
    },
    "colab_type": "code",
    "executionInfo": {
     "elapsed": 1105,
     "status": "ok",
     "timestamp": 1588018821960,
     "user": {
      "displayName": "Christophe Loussert",
      "photoUrl": "",
      "userId": "16796903251132996478"
     },
     "user_tz": -120
    },
    "id": "SmkGA-WM0JYV",
    "outputId": "249a4014-492e-428f-cfc2-1a88aa91780f"
   },
   "outputs": [
    {
     "data": {
      "text/plain": "<Figure size 1200x600 with 1 Axes>",
      "image/png": "[encoded data removed]"
     },
     "metadata": {},
     "output_type": "display_data"
    }
   ],
   "source": [
    "plt.figure(figsize=(12,6))\n",
    "up=(timing['ciuchStart']-timing['ciuchStartup']).apply(lambda x:x.total_seconds())\n",
    "mid=(timing['ciuchStop']-timing['ciuchStart']).apply(lambda x:x.total_seconds())\n",
    "down=(timing['ciuchStopdown']-timing['ciuchStop']).apply(lambda x:x.total_seconds())\n",
    "plt.boxplot([up,mid,down],labels=['ciuchStartup > ciuchStart','ciuchStart > ciuchStop','ciuchStop > ciuchStopdown'])\n",
    "plt.grid()\n",
    "plt.title('durations: Startup>Start, Start>Stop, Stop>Stopdown',size=16)\n",
    "plt.show()"
   ]
  },
  {
   "cell_type": "markdown",
   "source": [],
   "metadata": {
    "collapsed": false
   }
  },
  {
   "cell_type": "code",
   "execution_count": 91,
   "metadata": {
    "colab": {
     "base_uri": "https://localhost:8080/",
     "height": 195
    },
    "colab_type": "code",
    "executionInfo": {
     "elapsed": 3388,
     "status": "ok",
     "timestamp": 1588018830442,
     "user": {
      "displayName": "Christophe Loussert",
      "photoUrl": "",
      "userId": "16796903251132996478"
     },
     "user_tz": -120
    },
    "id": "hBRngm050JYb",
    "outputId": "341ba707-9434-448e-8263-fa6023b3b0f3"
   },
   "outputs": [
    {
     "data": {
      "text/plain": "      run  refListId  refListId_last slice_id                         slice  \\\n0       1          0               0     up_0 2019-11-07 18:53:42.370000000   \n1       1          0               0     up_1 2019-11-07 18:53:45.703333333   \n2       1          0               0     up_2 2019-11-07 18:53:49.036666666   \n3       1          0               0    mid_0 2019-11-07 18:53:52.370000000   \n4       1          0               0    mid_1 2019-11-07 18:53:52.979000000   \n...   ...        ...             ...      ...                           ...   \n3496   40          1               0    mid_1 2019-11-07 19:34:47.437000000   \n3497   40          1               0    mid_2 2019-11-07 19:34:48.038000000   \n3498   40          1               0   down_0 2019-11-07 19:34:48.639000000   \n3499   40          1               0   down_1 2019-11-07 19:34:51.972333333   \n3500   40          1               0   down_2 2019-11-07 19:34:55.305666666   \n\n                ciuchStartup              ciuchStart               ciuchStop  \\\n0    2019-11-07 18:53:42.370 2019-11-07 18:53:52.370 2019-11-07 18:53:54.197   \n1    2019-11-07 18:53:42.370 2019-11-07 18:53:52.370 2019-11-07 18:53:54.197   \n2    2019-11-07 18:53:42.370 2019-11-07 18:53:52.370 2019-11-07 18:53:54.197   \n3    2019-11-07 18:53:42.370 2019-11-07 18:53:52.370 2019-11-07 18:53:54.197   \n4    2019-11-07 18:53:42.370 2019-11-07 18:53:52.370 2019-11-07 18:53:54.197   \n...                      ...                     ...                     ...   \n3496 2019-11-07 19:34:44.230 2019-11-07 19:34:46.836 2019-11-07 19:34:48.639   \n3497 2019-11-07 19:34:44.230 2019-11-07 19:34:46.836 2019-11-07 19:34:48.639   \n3498 2019-11-07 19:34:44.230 2019-11-07 19:34:46.836 2019-11-07 19:34:48.639   \n3499 2019-11-07 19:34:44.230 2019-11-07 19:34:46.836 2019-11-07 19:34:48.639   \n3500 2019-11-07 19:34:44.230 2019-11-07 19:34:46.836 2019-11-07 19:34:48.639   \n\n               ciuchStopdown                  t0_run  \n0    2019-11-07 18:53:58.417 2019-11-07 18:53:42.370  \n1    2019-11-07 18:53:58.417 2019-11-07 18:53:42.370  \n2    2019-11-07 18:53:58.417 2019-11-07 18:53:42.370  \n3    2019-11-07 18:53:58.417 2019-11-07 18:53:42.370  \n4    2019-11-07 18:53:58.417 2019-11-07 18:53:42.370  \n...                      ...                     ...  \n3496 2019-11-07 19:34:58.639 2019-11-07 19:34:37.679  \n3497 2019-11-07 19:34:58.639 2019-11-07 19:34:37.679  \n3498 2019-11-07 19:34:58.639 2019-11-07 19:34:37.679  \n3499 2019-11-07 19:34:58.639 2019-11-07 19:34:37.679  \n3500 2019-11-07 19:34:58.639 2019-11-07 19:34:37.679  \n\n[3501 rows x 10 columns]",
      "text/html": "<div>\n<style scoped>\n    .dataframe tbody tr th:only-of-type {\n        vertical-align: middle;\n    }\n\n    .dataframe tbody tr th {\n        vertical-align: top;\n    }\n\n    .dataframe thead th {\n        text-align: right;\n    }\n</style>\n<table border=\"1\" class=\"dataframe\">\n  <thead>\n    <tr style=\"text-align: right;\">\n      <th></th>\n      <th>run</th>\n      <th>refListId</th>\n      <th>refListId_last</th>\n      <th>slice_id</th>\n      <th>slice</th>\n      <th>ciuchStartup</th>\n      <th>ciuchStart</th>\n      <th>ciuchStop</th>\n      <th>ciuchStopdown</th>\n      <th>t0_run</th>\n    </tr>\n  </thead>\n  <tbody>\n    <tr>\n      <th>0</th>\n      <td>1</td>\n      <td>0</td>\n      <td>0</td>\n      <td>up_0</td>\n      <td>2019-11-07 18:53:42.370000000</td>\n      <td>2019-11-07 18:53:42.370</td>\n      <td>2019-11-07 18:53:52.370</td>\n      <td>2019-11-07 18:53:54.197</td>\n      <td>2019-11-07 18:53:58.417</td>\n      <td>2019-11-07 18:53:42.370</td>\n    </tr>\n    <tr>\n      <th>1</th>\n      <td>1</td>\n      <td>0</td>\n      <td>0</td>\n      <td>up_1</td>\n      <td>2019-11-07 18:53:45.703333333</td>\n      <td>2019-11-07 18:53:42.370</td>\n      <td>2019-11-07 18:53:52.370</td>\n      <td>2019-11-07 18:53:54.197</td>\n      <td>2019-11-07 18:53:58.417</td>\n      <td>2019-11-07 18:53:42.370</td>\n    </tr>\n    <tr>\n      <th>2</th>\n      <td>1</td>\n      <td>0</td>\n      <td>0</td>\n      <td>up_2</td>\n      <td>2019-11-07 18:53:49.036666666</td>\n      <td>2019-11-07 18:53:42.370</td>\n      <td>2019-11-07 18:53:52.370</td>\n      <td>2019-11-07 18:53:54.197</td>\n      <td>2019-11-07 18:53:58.417</td>\n      <td>2019-11-07 18:53:42.370</td>\n    </tr>\n    <tr>\n      <th>3</th>\n      <td>1</td>\n      <td>0</td>\n      <td>0</td>\n      <td>mid_0</td>\n      <td>2019-11-07 18:53:52.370000000</td>\n      <td>2019-11-07 18:53:42.370</td>\n      <td>2019-11-07 18:53:52.370</td>\n      <td>2019-11-07 18:53:54.197</td>\n      <td>2019-11-07 18:53:58.417</td>\n      <td>2019-11-07 18:53:42.370</td>\n    </tr>\n    <tr>\n      <th>4</th>\n      <td>1</td>\n      <td>0</td>\n      <td>0</td>\n      <td>mid_1</td>\n      <td>2019-11-07 18:53:52.979000000</td>\n      <td>2019-11-07 18:53:42.370</td>\n      <td>2019-11-07 18:53:52.370</td>\n      <td>2019-11-07 18:53:54.197</td>\n      <td>2019-11-07 18:53:58.417</td>\n      <td>2019-11-07 18:53:42.370</td>\n    </tr>\n    <tr>\n      <th>...</th>\n      <td>...</td>\n      <td>...</td>\n      <td>...</td>\n      <td>...</td>\n      <td>...</td>\n      <td>...</td>\n      <td>...</td>\n      <td>...</td>\n      <td>...</td>\n      <td>...</td>\n    </tr>\n    <tr>\n      <th>3496</th>\n      <td>40</td>\n      <td>1</td>\n      <td>0</td>\n      <td>mid_1</td>\n      <td>2019-11-07 19:34:47.437000000</td>\n      <td>2019-11-07 19:34:44.230</td>\n      <td>2019-11-07 19:34:46.836</td>\n      <td>2019-11-07 19:34:48.639</td>\n      <td>2019-11-07 19:34:58.639</td>\n      <td>2019-11-07 19:34:37.679</td>\n    </tr>\n    <tr>\n      <th>3497</th>\n      <td>40</td>\n      <td>1</td>\n      <td>0</td>\n      <td>mid_2</td>\n      <td>2019-11-07 19:34:48.038000000</td>\n      <td>2019-11-07 19:34:44.230</td>\n      <td>2019-11-07 19:34:46.836</td>\n      <td>2019-11-07 19:34:48.639</td>\n      <td>2019-11-07 19:34:58.639</td>\n      <td>2019-11-07 19:34:37.679</td>\n    </tr>\n    <tr>\n      <th>3498</th>\n      <td>40</td>\n      <td>1</td>\n      <td>0</td>\n      <td>down_0</td>\n      <td>2019-11-07 19:34:48.639000000</td>\n      <td>2019-11-07 19:34:44.230</td>\n      <td>2019-11-07 19:34:46.836</td>\n      <td>2019-11-07 19:34:48.639</td>\n      <td>2019-11-07 19:34:58.639</td>\n      <td>2019-11-07 19:34:37.679</td>\n    </tr>\n    <tr>\n      <th>3499</th>\n      <td>40</td>\n      <td>1</td>\n      <td>0</td>\n      <td>down_1</td>\n      <td>2019-11-07 19:34:51.972333333</td>\n      <td>2019-11-07 19:34:44.230</td>\n      <td>2019-11-07 19:34:46.836</td>\n      <td>2019-11-07 19:34:48.639</td>\n      <td>2019-11-07 19:34:58.639</td>\n      <td>2019-11-07 19:34:37.679</td>\n    </tr>\n    <tr>\n      <th>3500</th>\n      <td>40</td>\n      <td>1</td>\n      <td>0</td>\n      <td>down_2</td>\n      <td>2019-11-07 19:34:55.305666666</td>\n      <td>2019-11-07 19:34:44.230</td>\n      <td>2019-11-07 19:34:46.836</td>\n      <td>2019-11-07 19:34:48.639</td>\n      <td>2019-11-07 19:34:58.639</td>\n      <td>2019-11-07 19:34:37.679</td>\n    </tr>\n  </tbody>\n</table>\n<p>3501 rows × 10 columns</p>\n</div>"
     },
     "execution_count": 91,
     "metadata": {},
     "output_type": "execute_result"
    }
   ],
   "source": [
    "#  full window (ciuchStartup > ciuchStopdown) is sliced in smaller slices\n",
    "# ciuchStartup > ciuchStart: 11 slices named up_0, up_1, ..., up_10\n",
    "# ciuchStart > ciuchStop: 11 slices named mid_0, mid_1, ... mid_10\n",
    "# ciuchStop > ciuchStopdown: 11 slices names down_0, down_1, ... down_10\n",
    "slices=pd.DataFrame()\n",
    "for i, row in timing .iterrows():\n",
    "    ciuchStartup=row['ciuchStartup']\n",
    "    ciuchStart=row['ciuchStart']\n",
    "    ciuchStop=row['ciuchStop']\n",
    "    ciuchStopdown=row['ciuchStopdown']\n",
    "    steps=4\n",
    "#     \n",
    "    up=pd.DataFrame(index=pd.date_range(start=ciuchStartup, end=ciuchStart,periods=steps,closed='left'))\\\n",
    "        .reset_index(drop=False).rename(columns={'index':'slice'})\n",
    "    up.index=['up_'+str(x) for x in range(steps-1)]\n",
    "    slices=slices.append(up)\n",
    "#     \n",
    "    mid=pd.DataFrame(index=pd.date_range(start=ciuchStart, end=ciuchStop,periods=steps,closed='left'))\\\n",
    "        .reset_index(drop=False).rename(columns={'index':'slice'})\n",
    "    mid.index=['mid_'+str(x) for x in range(steps-1)]\n",
    "    slices=slices.append(mid)\n",
    "#     \n",
    "    down=pd.DataFrame(index=pd.date_range(start=ciuchStop, end=ciuchStopdown,periods=steps,closed='left'))\\\n",
    "        .reset_index(drop=False).rename(columns={'index':'slice'})\n",
    "    down.index=['down_'+str(x) for x in range(steps-1)]\n",
    "    slices=slices.append(down)\n",
    "#     slices=slices.append(up)\n",
    "slices=slices.reset_index(drop=False).rename(columns={'index':'slice_id'})\n",
    "# \n",
    "timing_slices=pd.merge_asof(slices,timing,left_on='slice',right_on='ciuchStartup',direction='backward')\n",
    "timing_slices=timing_slices[['run', 'refListId', 'refListId_last','slice_id','slice',  \\\n",
    "                             'ciuchStartup', 'ciuchStart', 'ciuchStop', 'ciuchStopdown','t0_run']]\n",
    "timing_slices"
   ]
  },
  {
   "cell_type": "code",
   "execution_count": 92,
   "metadata": {
    "colab": {
     "base_uri": "https://localhost:8080/",
     "height": 34
    },
    "colab_type": "code",
    "executionInfo": {
     "elapsed": 569,
     "status": "ok",
     "timestamp": 1588018836457,
     "user": {
      "displayName": "Christophe Loussert",
      "photoUrl": "",
      "userId": "16796903251132996478"
     },
     "user_tz": -120
    },
    "id": "KPbdlNfS0JYg",
    "outputId": "5cc74c15-b135-4a6d-f0c7-9dbc7093b163"
   },
   "outputs": [
    {
     "data": {
      "text/plain": "3501"
     },
     "execution_count": 92,
     "metadata": {},
     "output_type": "execute_result"
    }
   ],
   "source": [
    "len(timing_slices)"
   ]
  },
  {
   "cell_type": "code",
   "execution_count": 93,
   "metadata": {
    "colab": {},
    "colab_type": "code",
    "id": "-Cr7z4100JYq"
   },
   "outputs": [
    {
     "data": {
      "text/plain": "        run      Epc  refListId  refListId_last            ciuchStartup  \\\n0         1  epc_135          0               0 2019-11-07 18:53:42.370   \n1         1  epc_175          0               0 2019-11-07 18:53:42.370   \n2         1  epc_134          0               0 2019-11-07 18:53:42.370   \n3         1  epc_135          0               0 2019-11-07 18:53:42.370   \n4         1  epc_134          0               0 2019-11-07 18:53:42.370   \n...     ...      ...        ...             ...                     ...   \n356063   40  epc_150          1               0 2019-11-07 19:34:44.230   \n356064   40   epc_87          1               0 2019-11-07 19:34:44.230   \n356065   40  epc_188          1               0 2019-11-07 19:34:44.230   \n356066   40  epc_187          1               0 2019-11-07 19:34:44.230   \n356067   40  epc_162          1               0 2019-11-07 19:34:44.230   \n\n       slice_id                         slice             LogTime  \\\n0          up_0 2019-11-07 18:53:42.370000000 2019-11-07 18:53:43   \n1          up_0 2019-11-07 18:53:42.370000000 2019-11-07 18:53:45   \n2          up_0 2019-11-07 18:53:42.370000000 2019-11-07 18:53:45   \n3          up_0 2019-11-07 18:53:42.370000000 2019-11-07 18:53:45   \n4          up_0 2019-11-07 18:53:42.370000000 2019-11-07 18:53:45   \n...         ...                           ...                 ...   \n356063   down_2 2019-11-07 19:34:55.305666666 2019-11-07 19:34:57   \n356064   down_2 2019-11-07 19:34:55.305666666 2019-11-07 19:34:57   \n356065   down_2 2019-11-07 19:34:55.305666666 2019-11-07 19:34:57   \n356066   down_2 2019-11-07 19:34:55.305666666 2019-11-07 19:34:57   \n356067   down_2 2019-11-07 19:34:55.305666666 2019-11-07 19:34:58   \n\n                    ciuchStart               ciuchStop  \\\n0      2019-11-07 18:53:52.370 2019-11-07 18:53:54.197   \n1      2019-11-07 18:53:52.370 2019-11-07 18:53:54.197   \n2      2019-11-07 18:53:52.370 2019-11-07 18:53:54.197   \n3      2019-11-07 18:53:52.370 2019-11-07 18:53:54.197   \n4      2019-11-07 18:53:52.370 2019-11-07 18:53:54.197   \n...                        ...                     ...   \n356063 2019-11-07 19:34:46.836 2019-11-07 19:34:48.639   \n356064 2019-11-07 19:34:46.836 2019-11-07 19:34:48.639   \n356065 2019-11-07 19:34:46.836 2019-11-07 19:34:48.639   \n356066 2019-11-07 19:34:46.836 2019-11-07 19:34:48.639   \n356067 2019-11-07 19:34:46.836 2019-11-07 19:34:48.639   \n\n                 ciuchStopdown  Rssi  loc                  t0_run  \\\n0      2019-11-07 18:53:58.417 -60.0  out 2019-11-07 18:53:42.370   \n1      2019-11-07 18:53:58.417 -66.0  out 2019-11-07 18:53:42.370   \n2      2019-11-07 18:53:58.417 -58.0   in 2019-11-07 18:53:42.370   \n3      2019-11-07 18:53:58.417 -67.0   in 2019-11-07 18:53:42.370   \n4      2019-11-07 18:53:58.417 -59.0   in 2019-11-07 18:53:42.370   \n...                        ...   ...  ...                     ...   \n356063 2019-11-07 19:34:58.639 -71.0  out 2019-11-07 19:34:37.679   \n356064 2019-11-07 19:34:58.639 -69.0  out 2019-11-07 19:34:37.679   \n356065 2019-11-07 19:34:58.639 -59.0  out 2019-11-07 19:34:37.679   \n356066 2019-11-07 19:34:58.639 -65.0  out 2019-11-07 19:34:37.679   \n356067 2019-11-07 19:34:58.639 -68.0  out 2019-11-07 19:34:37.679   \n\n        refListId_actual  \n0                      9  \n1                      2  \n2                      9  \n3                      9  \n4                      9  \n...                  ...  \n356063                 2  \n356064                 4  \n356065                 3  \n356066                 3  \n356067                 2  \n\n[356068 rows x 15 columns]",
      "text/html": "<div>\n<style scoped>\n    .dataframe tbody tr th:only-of-type {\n        vertical-align: middle;\n    }\n\n    .dataframe tbody tr th {\n        vertical-align: top;\n    }\n\n    .dataframe thead th {\n        text-align: right;\n    }\n</style>\n<table border=\"1\" class=\"dataframe\">\n  <thead>\n    <tr style=\"text-align: right;\">\n      <th></th>\n      <th>run</th>\n      <th>Epc</th>\n      <th>refListId</th>\n      <th>refListId_last</th>\n      <th>ciuchStartup</th>\n      <th>slice_id</th>\n      <th>slice</th>\n      <th>LogTime</th>\n      <th>ciuchStart</th>\n      <th>ciuchStop</th>\n      <th>ciuchStopdown</th>\n      <th>Rssi</th>\n      <th>loc</th>\n      <th>t0_run</th>\n      <th>refListId_actual</th>\n    </tr>\n  </thead>\n  <tbody>\n    <tr>\n      <th>0</th>\n      <td>1</td>\n      <td>epc_135</td>\n      <td>0</td>\n      <td>0</td>\n      <td>2019-11-07 18:53:42.370</td>\n      <td>up_0</td>\n      <td>2019-11-07 18:53:42.370000000</td>\n      <td>2019-11-07 18:53:43</td>\n      <td>2019-11-07 18:53:52.370</td>\n      <td>2019-11-07 18:53:54.197</td>\n      <td>2019-11-07 18:53:58.417</td>\n      <td>-60.0</td>\n      <td>out</td>\n      <td>2019-11-07 18:53:42.370</td>\n      <td>9</td>\n    </tr>\n    <tr>\n      <th>1</th>\n      <td>1</td>\n      <td>epc_175</td>\n      <td>0</td>\n      <td>0</td>\n      <td>2019-11-07 18:53:42.370</td>\n      <td>up_0</td>\n      <td>2019-11-07 18:53:42.370000000</td>\n      <td>2019-11-07 18:53:45</td>\n      <td>2019-11-07 18:53:52.370</td>\n      <td>2019-11-07 18:53:54.197</td>\n      <td>2019-11-07 18:53:58.417</td>\n      <td>-66.0</td>\n      <td>out</td>\n      <td>2019-11-07 18:53:42.370</td>\n      <td>2</td>\n    </tr>\n    <tr>\n      <th>2</th>\n      <td>1</td>\n      <td>epc_134</td>\n      <td>0</td>\n      <td>0</td>\n      <td>2019-11-07 18:53:42.370</td>\n      <td>up_0</td>\n      <td>2019-11-07 18:53:42.370000000</td>\n      <td>2019-11-07 18:53:45</td>\n      <td>2019-11-07 18:53:52.370</td>\n      <td>2019-11-07 18:53:54.197</td>\n      <td>2019-11-07 18:53:58.417</td>\n      <td>-58.0</td>\n      <td>in</td>\n      <td>2019-11-07 18:53:42.370</td>\n      <td>9</td>\n    </tr>\n    <tr>\n      <th>3</th>\n      <td>1</td>\n      <td>epc_135</td>\n      <td>0</td>\n      <td>0</td>\n      <td>2019-11-07 18:53:42.370</td>\n      <td>up_0</td>\n      <td>2019-11-07 18:53:42.370000000</td>\n      <td>2019-11-07 18:53:45</td>\n      <td>2019-11-07 18:53:52.370</td>\n      <td>2019-11-07 18:53:54.197</td>\n      <td>2019-11-07 18:53:58.417</td>\n      <td>-67.0</td>\n      <td>in</td>\n      <td>2019-11-07 18:53:42.370</td>\n      <td>9</td>\n    </tr>\n    <tr>\n      <th>4</th>\n      <td>1</td>\n      <td>epc_134</td>\n      <td>0</td>\n      <td>0</td>\n      <td>2019-11-07 18:53:42.370</td>\n      <td>up_0</td>\n      <td>2019-11-07 18:53:42.370000000</td>\n      <td>2019-11-07 18:53:45</td>\n      <td>2019-11-07 18:53:52.370</td>\n      <td>2019-11-07 18:53:54.197</td>\n      <td>2019-11-07 18:53:58.417</td>\n      <td>-59.0</td>\n      <td>in</td>\n      <td>2019-11-07 18:53:42.370</td>\n      <td>9</td>\n    </tr>\n    <tr>\n      <th>...</th>\n      <td>...</td>\n      <td>...</td>\n      <td>...</td>\n      <td>...</td>\n      <td>...</td>\n      <td>...</td>\n      <td>...</td>\n      <td>...</td>\n      <td>...</td>\n      <td>...</td>\n      <td>...</td>\n      <td>...</td>\n      <td>...</td>\n      <td>...</td>\n      <td>...</td>\n    </tr>\n    <tr>\n      <th>356063</th>\n      <td>40</td>\n      <td>epc_150</td>\n      <td>1</td>\n      <td>0</td>\n      <td>2019-11-07 19:34:44.230</td>\n      <td>down_2</td>\n      <td>2019-11-07 19:34:55.305666666</td>\n      <td>2019-11-07 19:34:57</td>\n      <td>2019-11-07 19:34:46.836</td>\n      <td>2019-11-07 19:34:48.639</td>\n      <td>2019-11-07 19:34:58.639</td>\n      <td>-71.0</td>\n      <td>out</td>\n      <td>2019-11-07 19:34:37.679</td>\n      <td>2</td>\n    </tr>\n    <tr>\n      <th>356064</th>\n      <td>40</td>\n      <td>epc_87</td>\n      <td>1</td>\n      <td>0</td>\n      <td>2019-11-07 19:34:44.230</td>\n      <td>down_2</td>\n      <td>2019-11-07 19:34:55.305666666</td>\n      <td>2019-11-07 19:34:57</td>\n      <td>2019-11-07 19:34:46.836</td>\n      <td>2019-11-07 19:34:48.639</td>\n      <td>2019-11-07 19:34:58.639</td>\n      <td>-69.0</td>\n      <td>out</td>\n      <td>2019-11-07 19:34:37.679</td>\n      <td>4</td>\n    </tr>\n    <tr>\n      <th>356065</th>\n      <td>40</td>\n      <td>epc_188</td>\n      <td>1</td>\n      <td>0</td>\n      <td>2019-11-07 19:34:44.230</td>\n      <td>down_2</td>\n      <td>2019-11-07 19:34:55.305666666</td>\n      <td>2019-11-07 19:34:57</td>\n      <td>2019-11-07 19:34:46.836</td>\n      <td>2019-11-07 19:34:48.639</td>\n      <td>2019-11-07 19:34:58.639</td>\n      <td>-59.0</td>\n      <td>out</td>\n      <td>2019-11-07 19:34:37.679</td>\n      <td>3</td>\n    </tr>\n    <tr>\n      <th>356066</th>\n      <td>40</td>\n      <td>epc_187</td>\n      <td>1</td>\n      <td>0</td>\n      <td>2019-11-07 19:34:44.230</td>\n      <td>down_2</td>\n      <td>2019-11-07 19:34:55.305666666</td>\n      <td>2019-11-07 19:34:57</td>\n      <td>2019-11-07 19:34:46.836</td>\n      <td>2019-11-07 19:34:48.639</td>\n      <td>2019-11-07 19:34:58.639</td>\n      <td>-65.0</td>\n      <td>out</td>\n      <td>2019-11-07 19:34:37.679</td>\n      <td>3</td>\n    </tr>\n    <tr>\n      <th>356067</th>\n      <td>40</td>\n      <td>epc_162</td>\n      <td>1</td>\n      <td>0</td>\n      <td>2019-11-07 19:34:44.230</td>\n      <td>down_2</td>\n      <td>2019-11-07 19:34:55.305666666</td>\n      <td>2019-11-07 19:34:58</td>\n      <td>2019-11-07 19:34:46.836</td>\n      <td>2019-11-07 19:34:48.639</td>\n      <td>2019-11-07 19:34:58.639</td>\n      <td>-68.0</td>\n      <td>out</td>\n      <td>2019-11-07 19:34:37.679</td>\n      <td>2</td>\n    </tr>\n  </tbody>\n</table>\n<p>356068 rows × 15 columns</p>\n</div>"
     },
     "execution_count": 93,
     "metadata": {},
     "output_type": "execute_result"
    }
   ],
   "source": [
    "# merge between df and timing\n",
    "# merge_asof needs sorted df > df_ref\n",
    "df=df[ (df['LogTime']>=timing['ciuchStartup'].min()) & (df['LogTime']<=timing['ciuchStopdown'].max())  ]\n",
    "df=df.sort_values('LogTime')\n",
    "df_reflist =pd.merge(df, reflist, on = 'Epc', how = 'left')\n",
    "df_reflist = df_reflist[['Epc','LogTime','Rssi','loc','refListId_actual','Q refListId_actual']]\n",
    "# \n",
    "# each row in df_ref is merged with the last row in timing where timing (ciuchstart_up) < df_ref (logtime)\n",
    "# \n",
    "# df_timing=pd.merge_asof(df_ref,timing,left_on=['LogTime'],right_on=['ciuchStartup'],direction='backward')\n",
    "# df_timing=df_timing.dropna()\n",
    "# df_timing=df_timing.sort_values('LogTime').reset_index(drop=True)\n",
    "# df_timing=df_timing[['run', 'Epc','refListId', 'refListId_last', 'ciuchStartup',\\\n",
    "#                      'LogTime', 'ciuchStop', 'ciuchStopdown','Rssi', 'loc', 'refListId_actual']]\n",
    "# \n",
    "# each row in df_ref is merged with the last row in timing_slices where timing (slice) < df_ref (logtime)\n",
    "# \n",
    "df_timing_slices=pd.merge_asof(df_reflist,timing_slices,left_on=['LogTime'],right_on=['slice'],direction='backward')\n",
    "df_timing_slices=df_timing_slices.dropna()\n",
    "df_timing_slices=df_timing_slices.sort_values('slice').reset_index(drop=True)\n",
    "df_timing_slices=df_timing_slices[['run', 'Epc','refListId', 'refListId_last', 'ciuchStartup','slice_id','slice','LogTime',\n",
    "                                   'ciuchStart','ciuchStop', 'ciuchStopdown', 'Rssi', 'loc','t0_run','refListId_actual']]\n",
    "df_timing_slices"
   ]
  },
  {
   "cell_type": "code",
   "execution_count": 94,
   "metadata": {},
   "outputs": [],
   "source": [
    "# "
   ]
  },
  {
   "cell_type": "code",
   "execution_count": 95,
   "metadata": {
    "colab": {},
    "colab_type": "code",
    "id": "5IQYbPTn0JYx"
   },
   "outputs": [],
   "source": [
    "# df_timing_slices=pd.merge(df_timing_slices, reflist, on='Epc',how='left')\n",
    "# df_timing_slices = df_timing_slices [ ~((df_timing_slices['refListId']==0) & (df_timing_slices['refListId_actual']==9)) ]\n",
    "# #\n",
    "# df_timing_slices = df_timing_slices [ ~((df_timing_slices['refListId']==9) & (df_timing_slices['refListId_actual']==0)) ]\n",
    "# # # \n",
    "# # df_timing_slices = df_timing_slices [ ~((df_timing_slices['refListId']==0) | (df_timing_slices['refListId_actual']==0)) ]\n",
    "\n",
    "# df_timing_slices=df_timing_slices.drop(['refListId_actual','Q refListId_actual'],axis=1)"
   ]
  },
  {
   "cell_type": "code",
   "execution_count": 95,
   "metadata": {},
   "outputs": [],
   "source": []
  },
  {
   "cell_type": "code",
   "execution_count": 96,
   "metadata": {
    "colab": {
     "base_uri": "https://localhost:8080/",
     "height": 166
    },
    "colab_type": "code",
    "executionInfo": {
     "elapsed": 764,
     "status": "ok",
     "timestamp": 1588018861284,
     "user": {
      "displayName": "Christophe Loussert",
      "photoUrl": "",
      "userId": "16796903251132996478"
     },
     "user_tz": -120
    },
    "id": "S0km1WAe0JY2",
    "outputId": "aa783a99-a7cf-4ab6-b442-aad6b99ad767"
   },
   "outputs": [
    {
     "data": {
      "text/plain": "    run  Q refListId\n15   16            9\n22   23            9\n31   32            9\n39   40            2",
      "text/html": "<div>\n<style scoped>\n    .dataframe tbody tr th:only-of-type {\n        vertical-align: middle;\n    }\n\n    .dataframe tbody tr th {\n        vertical-align: top;\n    }\n\n    .dataframe thead th {\n        text-align: right;\n    }\n</style>\n<table border=\"1\" class=\"dataframe\">\n  <thead>\n    <tr style=\"text-align: right;\">\n      <th></th>\n      <th>run</th>\n      <th>Q refListId</th>\n    </tr>\n  </thead>\n  <tbody>\n    <tr>\n      <th>15</th>\n      <td>16</td>\n      <td>9</td>\n    </tr>\n    <tr>\n      <th>22</th>\n      <td>23</td>\n      <td>9</td>\n    </tr>\n    <tr>\n      <th>31</th>\n      <td>32</td>\n      <td>9</td>\n    </tr>\n    <tr>\n      <th>39</th>\n      <td>40</td>\n      <td>2</td>\n    </tr>\n  </tbody>\n</table>\n</div>"
     },
     "execution_count": 96,
     "metadata": {},
     "output_type": "execute_result"
    }
   ],
   "source": [
    "runs_out=df_timing_slices.groupby('run')['refListId'].nunique().rename('Q refListId').reset_index(drop=False)\n",
    "runs_out[runs_out['Q refListId']!=10]"
   ]
  },
  {
   "cell_type": "code",
   "execution_count": 97,
   "metadata": {},
   "outputs": [
    {
     "data": {
      "text/plain": "   run  refListId  refListId_last               ciuchStop\n0    1          0               0 2019-11-07 18:53:54.197",
      "text/html": "<div>\n<style scoped>\n    .dataframe tbody tr th:only-of-type {\n        vertical-align: middle;\n    }\n\n    .dataframe tbody tr th {\n        vertical-align: top;\n    }\n\n    .dataframe thead th {\n        text-align: right;\n    }\n</style>\n<table border=\"1\" class=\"dataframe\">\n  <thead>\n    <tr style=\"text-align: right;\">\n      <th></th>\n      <th>run</th>\n      <th>refListId</th>\n      <th>refListId_last</th>\n      <th>ciuchStop</th>\n    </tr>\n  </thead>\n  <tbody>\n    <tr>\n      <th>0</th>\n      <td>1</td>\n      <td>0</td>\n      <td>0</td>\n      <td>2019-11-07 18:53:54.197</td>\n    </tr>\n  </tbody>\n</table>\n</div>"
     },
     "execution_count": 97,
     "metadata": {},
     "output_type": "execute_result"
    }
   ],
   "source": [
    "current_last_windows=timing_slices.drop_duplicates(['run','refListId','refListId_last'])\n",
    "current_last_windows=current_last_windows[['run','refListId','refListId_last','ciuchStop']].reset_index(drop=True)\n",
    "current_last_windows[:1]"
   ]
  },
  {
   "cell_type": "code",
   "execution_count": 98,
   "metadata": {
    "colab": {},
    "colab_type": "code",
    "id": "55atRD2V0JY5"
   },
   "outputs": [],
   "source": [
    "# runs 16 23 32 40 have missing boxes: discarded\n",
    "# also run 1 is the start, no previous box: discarded\n",
    "# run 18: box 0 run at the end\n",
    "# \n",
    "timing=timing[~timing['run'].isin([1,18,16,23,32,40])]\n",
    "timing_slices=timing_slices[~timing_slices['run'].isin([1,18,16,23,32,40])]\n",
    "df_timing_slices=df_timing_slices[~df_timing_slices['run'].isin([1,18,16,23,32,40])]\n",
    "\n",
    "df_timing_slices=df_timing_slices.sort_values(['LogTime','Epc'])\n",
    "# "
   ]
  },
  {
   "cell_type": "code",
   "execution_count": 99,
   "metadata": {
    "colab": {
     "base_uri": "https://localhost:8080/",
     "height": 34
    },
    "colab_type": "code",
    "executionInfo": {
     "elapsed": 604,
     "status": "ok",
     "timestamp": 1588018865521,
     "user": {
      "displayName": "Christophe Loussert",
      "photoUrl": "",
      "userId": "16796903251132996478"
     },
     "user_tz": -120
    },
    "id": "G6oeU9Hc0JY8",
    "outputId": "4dd5024f-56fe-4f40-f9e8-407065501e56"
   },
   "outputs": [
    {
     "data": {
      "text/plain": "(340, 3060, 307965)"
     },
     "execution_count": 99,
     "metadata": {},
     "output_type": "execute_result"
    }
   ],
   "source": [
    "len(timing),len(timing_slices), len(df_timing_slices)"
   ]
  },
  {
   "cell_type": "code",
   "execution_count": 100,
   "metadata": {
    "colab": {
     "base_uri": "https://localhost:8080/",
     "height": 130
    },
    "colab_type": "code",
    "executionInfo": {
     "elapsed": 1833,
     "status": "ok",
     "timestamp": 1587999354809,
     "user": {
      "displayName": "Christophe Loussert",
      "photoUrl": "",
      "userId": "16796903251132996478"
     },
     "user_tz": -120
    },
    "id": "P1sFrp-k0JZG",
    "outputId": "b4b32271-8411-479f-bef3-14420379aceb"
   },
   "outputs": [
    {
     "data": {
      "text/plain": "      run      Epc  refListId  refListId_last               ciuchStartup  \\\n8978    2  epc_100          0               9 2019-11-07 18:54:55.894500   \n\n     slice_id                      slice             LogTime  \\\n8978     up_0 2019-11-07 18:54:55.894500 2019-11-07 18:54:56   \n\n                  ciuchStart               ciuchStop           ciuchStopdown  \\\n8978 2019-11-07 18:54:57.738 2019-11-07 18:54:59.584 2019-11-07 18:55:01.765   \n\n      Rssi  loc                     t0_run  refListId_actual  \n8978 -54.0  out 2019-11-07 18:54:55.894500                 0  ",
      "text/html": "<div>\n<style scoped>\n    .dataframe tbody tr th:only-of-type {\n        vertical-align: middle;\n    }\n\n    .dataframe tbody tr th {\n        vertical-align: top;\n    }\n\n    .dataframe thead th {\n        text-align: right;\n    }\n</style>\n<table border=\"1\" class=\"dataframe\">\n  <thead>\n    <tr style=\"text-align: right;\">\n      <th></th>\n      <th>run</th>\n      <th>Epc</th>\n      <th>refListId</th>\n      <th>refListId_last</th>\n      <th>ciuchStartup</th>\n      <th>slice_id</th>\n      <th>slice</th>\n      <th>LogTime</th>\n      <th>ciuchStart</th>\n      <th>ciuchStop</th>\n      <th>ciuchStopdown</th>\n      <th>Rssi</th>\n      <th>loc</th>\n      <th>t0_run</th>\n      <th>refListId_actual</th>\n    </tr>\n  </thead>\n  <tbody>\n    <tr>\n      <th>8978</th>\n      <td>2</td>\n      <td>epc_100</td>\n      <td>0</td>\n      <td>9</td>\n      <td>2019-11-07 18:54:55.894500</td>\n      <td>up_0</td>\n      <td>2019-11-07 18:54:55.894500</td>\n      <td>2019-11-07 18:54:56</td>\n      <td>2019-11-07 18:54:57.738</td>\n      <td>2019-11-07 18:54:59.584</td>\n      <td>2019-11-07 18:55:01.765</td>\n      <td>-54.0</td>\n      <td>out</td>\n      <td>2019-11-07 18:54:55.894500</td>\n      <td>0</td>\n    </tr>\n  </tbody>\n</table>\n</div>"
     },
     "execution_count": 100,
     "metadata": {},
     "output_type": "execute_result"
    }
   ],
   "source": [
    "df_timing_slices[:1]"
   ]
  },
  {
   "cell_type": "markdown",
   "source": [],
   "metadata": {
    "collapsed": false
   }
  },
  {
   "cell_type": "code",
   "execution_count": 101,
   "metadata": {
    "colab": {},
    "colab_type": "code",
    "id": "V0Xb3nX90JZL"
   },
   "outputs": [],
   "source": [
    "# df_timing_slices['dt']=\n",
    "df_timing_slices['dt']=(df_timing_slices['LogTime']-df_timing_slices['t0_run']).apply(lambda x:x.total_seconds())"
   ]
  },
  {
   "cell_type": "code",
   "execution_count": 102,
   "metadata": {
    "colab": {
     "base_uri": "https://localhost:8080/",
     "height": 94
    },
    "colab_type": "code",
    "executionInfo": {
     "elapsed": 1917,
     "status": "ok",
     "timestamp": 1588018877417,
     "user": {
      "displayName": "Christophe Loussert",
      "photoUrl": "",
      "userId": "16796903251132996478"
     },
     "user_tz": -120
    },
    "id": "Nw4PnZmD0JZQ",
    "outputId": "587f6e33-9477-499d-a1c0-bf01811843d3"
   },
   "outputs": [
    {
     "data": {
      "text/plain": "      run      Epc  refListId  refListId_last               ciuchStartup  \\\n8978    2  epc_100          0               9 2019-11-07 18:54:55.894500   \n\n     slice_id                      slice             LogTime  \\\n8978     up_0 2019-11-07 18:54:55.894500 2019-11-07 18:54:56   \n\n                  ciuchStart               ciuchStop           ciuchStopdown  \\\n8978 2019-11-07 18:54:57.738 2019-11-07 18:54:59.584 2019-11-07 18:55:01.765   \n\n      Rssi  loc                     t0_run  refListId_actual      dt  \n8978 -54.0  out 2019-11-07 18:54:55.894500                 0  0.1055  ",
      "text/html": "<div>\n<style scoped>\n    .dataframe tbody tr th:only-of-type {\n        vertical-align: middle;\n    }\n\n    .dataframe tbody tr th {\n        vertical-align: top;\n    }\n\n    .dataframe thead th {\n        text-align: right;\n    }\n</style>\n<table border=\"1\" class=\"dataframe\">\n  <thead>\n    <tr style=\"text-align: right;\">\n      <th></th>\n      <th>run</th>\n      <th>Epc</th>\n      <th>refListId</th>\n      <th>refListId_last</th>\n      <th>ciuchStartup</th>\n      <th>slice_id</th>\n      <th>slice</th>\n      <th>LogTime</th>\n      <th>ciuchStart</th>\n      <th>ciuchStop</th>\n      <th>ciuchStopdown</th>\n      <th>Rssi</th>\n      <th>loc</th>\n      <th>t0_run</th>\n      <th>refListId_actual</th>\n      <th>dt</th>\n    </tr>\n  </thead>\n  <tbody>\n    <tr>\n      <th>8978</th>\n      <td>2</td>\n      <td>epc_100</td>\n      <td>0</td>\n      <td>9</td>\n      <td>2019-11-07 18:54:55.894500</td>\n      <td>up_0</td>\n      <td>2019-11-07 18:54:55.894500</td>\n      <td>2019-11-07 18:54:56</td>\n      <td>2019-11-07 18:54:57.738</td>\n      <td>2019-11-07 18:54:59.584</td>\n      <td>2019-11-07 18:55:01.765</td>\n      <td>-54.0</td>\n      <td>out</td>\n      <td>2019-11-07 18:54:55.894500</td>\n      <td>0</td>\n      <td>0.1055</td>\n    </tr>\n  </tbody>\n</table>\n</div>"
     },
     "execution_count": 102,
     "metadata": {},
     "output_type": "execute_result"
    }
   ],
   "source": [
    "df_timing_slices[:1]"
   ]
  },
  {
   "cell_type": "code",
   "execution_count": 103,
   "metadata": {
    "colab": {},
    "colab_type": "code",
    "id": "EjAm_PSS0JZU"
   },
   "outputs": [],
   "source": [
    "# \n",
    "# df_timing_threshold\n",
    "# "
   ]
  },
  {
   "cell_type": "code",
   "execution_count": 104,
   "metadata": {
    "colab": {},
    "colab_type": "code",
    "id": "OnuEm2dM0JZZ"
   },
   "outputs": [],
   "source": [
    "rssi_threshold=-110\n",
    "df_timing_slices_threshold=df_timing_slices[df_timing_slices['Rssi']>rssi_threshold]"
   ]
  },
  {
   "cell_type": "code",
   "execution_count": 105,
   "metadata": {
    "colab": {
     "base_uri": "https://localhost:8080/",
     "height": 84
    },
    "colab_type": "code",
    "executionInfo": {
     "elapsed": 588,
     "status": "ok",
     "timestamp": 1588018880132,
     "user": {
      "displayName": "Christophe Loussert",
      "photoUrl": "",
      "userId": "16796903251132996478"
     },
     "user_tz": -120
    },
    "id": "wfphpSFv0JZd",
    "outputId": "481323e7-24c7-4161-84e0-019495067ecc"
   },
   "outputs": [
    {
     "data": {
      "text/plain": "loc\nin     100.00\nout     99.29\nName: Epc, dtype: float64"
     },
     "execution_count": 105,
     "metadata": {},
     "output_type": "execute_result"
    }
   ],
   "source": [
    "# readrate\n",
    "readrate = round(100*df_timing_slices_threshold.reset_index(drop=False).groupby(['run','loc'])['Epc'].nunique().groupby('loc').mean()\\\n",
    "    /reflist['Epc'].nunique(),2)\n",
    "readrate"
   ]
  },
  {
   "cell_type": "code",
   "execution_count": 106,
   "outputs": [
    {
     "data": {
      "text/plain": "        run      Epc  refListId  refListId_last               ciuchStartup  \\\n8978      2  epc_100          0               9 2019-11-07 18:54:55.894500   \n9014      2  epc_100          0               9 2019-11-07 18:54:55.894500   \n9044      2  epc_100          0               9 2019-11-07 18:54:55.894500   \n9047      2  epc_100          0               9 2019-11-07 18:54:55.894500   \n9084      2  epc_100          0               9 2019-11-07 18:54:55.894500   \n...     ...      ...        ...             ...                        ...   \n354252   39   epc_99          9               8 2019-11-07 19:34:31.683000   \n354264   39   epc_99          9               8 2019-11-07 19:34:31.683000   \n354348   39   epc_99          9               8 2019-11-07 19:34:31.683000   \n354349   39   epc_99          9               8 2019-11-07 19:34:31.683000   \n354351   39   epc_99          9               8 2019-11-07 19:34:31.683000   \n\n       slice_id                         slice             LogTime  \\\n8978       up_0 2019-11-07 18:54:55.894500000 2019-11-07 18:54:56   \n9014       up_0 2019-11-07 18:54:55.894500000 2019-11-07 18:54:56   \n9044       up_0 2019-11-07 18:54:55.894500000 2019-11-07 18:54:56   \n9047       up_0 2019-11-07 18:54:55.894500000 2019-11-07 18:54:56   \n9084       up_0 2019-11-07 18:54:55.894500000 2019-11-07 18:54:56   \n...         ...                           ...                 ...   \n354252   down_1 2019-11-07 19:34:36.340333333 2019-11-07 19:34:37   \n354264   down_1 2019-11-07 19:34:36.340333333 2019-11-07 19:34:37   \n354348   down_1 2019-11-07 19:34:36.340333333 2019-11-07 19:34:37   \n354349   down_1 2019-11-07 19:34:36.340333333 2019-11-07 19:34:37   \n354351   down_1 2019-11-07 19:34:36.340333333 2019-11-07 19:34:37   \n\n                    ciuchStart               ciuchStop  \\\n8978   2019-11-07 18:54:57.738 2019-11-07 18:54:59.584   \n9014   2019-11-07 18:54:57.738 2019-11-07 18:54:59.584   \n9044   2019-11-07 18:54:57.738 2019-11-07 18:54:59.584   \n9047   2019-11-07 18:54:57.738 2019-11-07 18:54:59.584   \n9084   2019-11-07 18:54:57.738 2019-11-07 18:54:59.584   \n...                        ...                     ...   \n354252 2019-11-07 19:34:33.696 2019-11-07 19:34:35.671   \n354264 2019-11-07 19:34:33.696 2019-11-07 19:34:35.671   \n354348 2019-11-07 19:34:33.696 2019-11-07 19:34:35.671   \n354349 2019-11-07 19:34:33.696 2019-11-07 19:34:35.671   \n354351 2019-11-07 19:34:33.696 2019-11-07 19:34:35.671   \n\n                 ciuchStopdown  Rssi  loc                     t0_run  \\\n8978   2019-11-07 18:55:01.765 -54.0  out 2019-11-07 18:54:55.894500   \n9014   2019-11-07 18:55:01.765 -69.0   in 2019-11-07 18:54:55.894500   \n9044   2019-11-07 18:55:01.765 -50.0  out 2019-11-07 18:54:55.894500   \n9047   2019-11-07 18:55:01.765 -47.0  out 2019-11-07 18:54:55.894500   \n9084   2019-11-07 18:55:01.765 -68.0   in 2019-11-07 18:54:55.894500   \n...                        ...   ...  ...                        ...   \n354252 2019-11-07 19:34:37.679 -51.0  out 2019-11-07 19:33:38.447500   \n354264 2019-11-07 19:34:37.679 -62.0   in 2019-11-07 19:33:38.447500   \n354348 2019-11-07 19:34:37.679 -49.0  out 2019-11-07 19:33:38.447500   \n354349 2019-11-07 19:34:37.679 -49.0  out 2019-11-07 19:33:38.447500   \n354351 2019-11-07 19:34:37.679 -62.0   in 2019-11-07 19:33:38.447500   \n\n        refListId_actual       dt window_run_id  \n8978                   0   0.1055           0_2  \n9014                   0   0.1055           0_2  \n9044                   0   0.1055           0_2  \n9047                   0   0.1055           0_2  \n9084                   0   0.1055           0_2  \n...                  ...      ...           ...  \n354252                 0  58.5525          9_39  \n354264                 0  58.5525          9_39  \n354348                 0  58.5525          9_39  \n354349                 0  58.5525          9_39  \n354351                 0  58.5525          9_39  \n\n[307965 rows x 17 columns]",
      "text/html": "<div>\n<style scoped>\n    .dataframe tbody tr th:only-of-type {\n        vertical-align: middle;\n    }\n\n    .dataframe tbody tr th {\n        vertical-align: top;\n    }\n\n    .dataframe thead th {\n        text-align: right;\n    }\n</style>\n<table border=\"1\" class=\"dataframe\">\n  <thead>\n    <tr style=\"text-align: right;\">\n      <th></th>\n      <th>run</th>\n      <th>Epc</th>\n      <th>refListId</th>\n      <th>refListId_last</th>\n      <th>ciuchStartup</th>\n      <th>slice_id</th>\n      <th>slice</th>\n      <th>LogTime</th>\n      <th>ciuchStart</th>\n      <th>ciuchStop</th>\n      <th>ciuchStopdown</th>\n      <th>Rssi</th>\n      <th>loc</th>\n      <th>t0_run</th>\n      <th>refListId_actual</th>\n      <th>dt</th>\n      <th>window_run_id</th>\n    </tr>\n  </thead>\n  <tbody>\n    <tr>\n      <th>8978</th>\n      <td>2</td>\n      <td>epc_100</td>\n      <td>0</td>\n      <td>9</td>\n      <td>2019-11-07 18:54:55.894500</td>\n      <td>up_0</td>\n      <td>2019-11-07 18:54:55.894500000</td>\n      <td>2019-11-07 18:54:56</td>\n      <td>2019-11-07 18:54:57.738</td>\n      <td>2019-11-07 18:54:59.584</td>\n      <td>2019-11-07 18:55:01.765</td>\n      <td>-54.0</td>\n      <td>out</td>\n      <td>2019-11-07 18:54:55.894500</td>\n      <td>0</td>\n      <td>0.1055</td>\n      <td>0_2</td>\n    </tr>\n    <tr>\n      <th>9014</th>\n      <td>2</td>\n      <td>epc_100</td>\n      <td>0</td>\n      <td>9</td>\n      <td>2019-11-07 18:54:55.894500</td>\n      <td>up_0</td>\n      <td>2019-11-07 18:54:55.894500000</td>\n      <td>2019-11-07 18:54:56</td>\n      <td>2019-11-07 18:54:57.738</td>\n      <td>2019-11-07 18:54:59.584</td>\n      <td>2019-11-07 18:55:01.765</td>\n      <td>-69.0</td>\n      <td>in</td>\n      <td>2019-11-07 18:54:55.894500</td>\n      <td>0</td>\n      <td>0.1055</td>\n      <td>0_2</td>\n    </tr>\n    <tr>\n      <th>9044</th>\n      <td>2</td>\n      <td>epc_100</td>\n      <td>0</td>\n      <td>9</td>\n      <td>2019-11-07 18:54:55.894500</td>\n      <td>up_0</td>\n      <td>2019-11-07 18:54:55.894500000</td>\n      <td>2019-11-07 18:54:56</td>\n      <td>2019-11-07 18:54:57.738</td>\n      <td>2019-11-07 18:54:59.584</td>\n      <td>2019-11-07 18:55:01.765</td>\n      <td>-50.0</td>\n      <td>out</td>\n      <td>2019-11-07 18:54:55.894500</td>\n      <td>0</td>\n      <td>0.1055</td>\n      <td>0_2</td>\n    </tr>\n    <tr>\n      <th>9047</th>\n      <td>2</td>\n      <td>epc_100</td>\n      <td>0</td>\n      <td>9</td>\n      <td>2019-11-07 18:54:55.894500</td>\n      <td>up_0</td>\n      <td>2019-11-07 18:54:55.894500000</td>\n      <td>2019-11-07 18:54:56</td>\n      <td>2019-11-07 18:54:57.738</td>\n      <td>2019-11-07 18:54:59.584</td>\n      <td>2019-11-07 18:55:01.765</td>\n      <td>-47.0</td>\n      <td>out</td>\n      <td>2019-11-07 18:54:55.894500</td>\n      <td>0</td>\n      <td>0.1055</td>\n      <td>0_2</td>\n    </tr>\n    <tr>\n      <th>9084</th>\n      <td>2</td>\n      <td>epc_100</td>\n      <td>0</td>\n      <td>9</td>\n      <td>2019-11-07 18:54:55.894500</td>\n      <td>up_0</td>\n      <td>2019-11-07 18:54:55.894500000</td>\n      <td>2019-11-07 18:54:56</td>\n      <td>2019-11-07 18:54:57.738</td>\n      <td>2019-11-07 18:54:59.584</td>\n      <td>2019-11-07 18:55:01.765</td>\n      <td>-68.0</td>\n      <td>in</td>\n      <td>2019-11-07 18:54:55.894500</td>\n      <td>0</td>\n      <td>0.1055</td>\n      <td>0_2</td>\n    </tr>\n    <tr>\n      <th>...</th>\n      <td>...</td>\n      <td>...</td>\n      <td>...</td>\n      <td>...</td>\n      <td>...</td>\n      <td>...</td>\n      <td>...</td>\n      <td>...</td>\n      <td>...</td>\n      <td>...</td>\n      <td>...</td>\n      <td>...</td>\n      <td>...</td>\n      <td>...</td>\n      <td>...</td>\n      <td>...</td>\n      <td>...</td>\n    </tr>\n    <tr>\n      <th>354252</th>\n      <td>39</td>\n      <td>epc_99</td>\n      <td>9</td>\n      <td>8</td>\n      <td>2019-11-07 19:34:31.683000</td>\n      <td>down_1</td>\n      <td>2019-11-07 19:34:36.340333333</td>\n      <td>2019-11-07 19:34:37</td>\n      <td>2019-11-07 19:34:33.696</td>\n      <td>2019-11-07 19:34:35.671</td>\n      <td>2019-11-07 19:34:37.679</td>\n      <td>-51.0</td>\n      <td>out</td>\n      <td>2019-11-07 19:33:38.447500</td>\n      <td>0</td>\n      <td>58.5525</td>\n      <td>9_39</td>\n    </tr>\n    <tr>\n      <th>354264</th>\n      <td>39</td>\n      <td>epc_99</td>\n      <td>9</td>\n      <td>8</td>\n      <td>2019-11-07 19:34:31.683000</td>\n      <td>down_1</td>\n      <td>2019-11-07 19:34:36.340333333</td>\n      <td>2019-11-07 19:34:37</td>\n      <td>2019-11-07 19:34:33.696</td>\n      <td>2019-11-07 19:34:35.671</td>\n      <td>2019-11-07 19:34:37.679</td>\n      <td>-62.0</td>\n      <td>in</td>\n      <td>2019-11-07 19:33:38.447500</td>\n      <td>0</td>\n      <td>58.5525</td>\n      <td>9_39</td>\n    </tr>\n    <tr>\n      <th>354348</th>\n      <td>39</td>\n      <td>epc_99</td>\n      <td>9</td>\n      <td>8</td>\n      <td>2019-11-07 19:34:31.683000</td>\n      <td>down_1</td>\n      <td>2019-11-07 19:34:36.340333333</td>\n      <td>2019-11-07 19:34:37</td>\n      <td>2019-11-07 19:34:33.696</td>\n      <td>2019-11-07 19:34:35.671</td>\n      <td>2019-11-07 19:34:37.679</td>\n      <td>-49.0</td>\n      <td>out</td>\n      <td>2019-11-07 19:33:38.447500</td>\n      <td>0</td>\n      <td>58.5525</td>\n      <td>9_39</td>\n    </tr>\n    <tr>\n      <th>354349</th>\n      <td>39</td>\n      <td>epc_99</td>\n      <td>9</td>\n      <td>8</td>\n      <td>2019-11-07 19:34:31.683000</td>\n      <td>down_1</td>\n      <td>2019-11-07 19:34:36.340333333</td>\n      <td>2019-11-07 19:34:37</td>\n      <td>2019-11-07 19:34:33.696</td>\n      <td>2019-11-07 19:34:35.671</td>\n      <td>2019-11-07 19:34:37.679</td>\n      <td>-49.0</td>\n      <td>out</td>\n      <td>2019-11-07 19:33:38.447500</td>\n      <td>0</td>\n      <td>58.5525</td>\n      <td>9_39</td>\n    </tr>\n    <tr>\n      <th>354351</th>\n      <td>39</td>\n      <td>epc_99</td>\n      <td>9</td>\n      <td>8</td>\n      <td>2019-11-07 19:34:31.683000</td>\n      <td>down_1</td>\n      <td>2019-11-07 19:34:36.340333333</td>\n      <td>2019-11-07 19:34:37</td>\n      <td>2019-11-07 19:34:33.696</td>\n      <td>2019-11-07 19:34:35.671</td>\n      <td>2019-11-07 19:34:37.679</td>\n      <td>-62.0</td>\n      <td>in</td>\n      <td>2019-11-07 19:33:38.447500</td>\n      <td>0</td>\n      <td>58.5525</td>\n      <td>9_39</td>\n    </tr>\n  </tbody>\n</table>\n<p>307965 rows × 17 columns</p>\n</div>"
     },
     "execution_count": 106,
     "metadata": {},
     "output_type": "execute_result"
    }
   ],
   "source": [
    "df_timing_slices['window_run_id'] = df_timing_slices.apply(lambda row: str(row['refListId']) + '_' + str(row['run']), axis=1)\n",
    "df_timing_slices"
   ],
   "metadata": {
    "collapsed": false
   }
  },
  {
   "cell_type": "code",
   "execution_count": 107,
   "outputs": [],
   "source": [
    "def analytical (tags, subslices):\n",
    "    # Groupe les données de tags par Epc, window_run_id, slice_id et loc et calcule la valeur maximale de Rssi pour chaque groupe\n",
    "    # Les résultats sont stockés dans une table pivotante\n",
    "    ana = tags.groupby(['Epc', 'window_run_id', 'slice_id', 'loc'])['Rssi'].max().unstack('loc', fill_value=-110).reset_index(drop=False)\n",
    "\n",
    "    # Crée une table contenant une liste unique de tous les slice_id et leur ordre\n",
    "    order=pd.DataFrame(subslices['slice_id' ].unique (), columns=['slice_id'])\n",
    "    order['order']=order.index\n",
    "\n",
    "    # Effectue une jointure entre ana et order pour obtenir l'ordre de chaque subslice_id\n",
    "    ana=pd.merge (ana, order, on='slice_id', how='left')\n",
    "\n",
    "    # Sélectionne uniquement les colonnes importantes\n",
    "    ana = ana [['Epc', 'window_run_id', 'slice_id', 'in', 'out', 'order']]\n",
    "\n",
    "    # Sélectionne les sous-slices qui ont un \"out\" plus grand que \"in\" et les trie par ordre décroissant pour chaque Epc et window_run_id\n",
    "    # Supprime les doublons pour chaque Epc et window_run_id et stocke le résultat dans ana_out\n",
    "    ana_out=ana[ ana['out']>ana['in'] ].sort_values (['Epc', 'window_run_id', 'order'], ascending=False).drop_duplicates (['Epc', 'window_run_id'])\n",
    "\n",
    "    # Sélectionne les sous-slices qui ont un \"in\" plus grand que \"out\" et les trie par ordre croissant pour chaque Epc et window_run_id\n",
    "    # Supprime les doublons pour chaque Epc et window_run_id et stocke le résultat dans ana_in\n",
    "    ana_in=ana[ ana['in']>ana['out'] ].sort_values (['Epc', 'window_run_id', 'order'], ascending=True).drop_duplicates (['Epc', 'window_run_id'])\n",
    "\n",
    "    # Effectue une jointure entre ana_in et ana_out pour obtenir les données de chaque Epc et window_run_id qui ont des in et out valides\n",
    "    # Stocke le résultat dans ana\n",
    "    ana = pd.merge(ana_in, ana_out, on=['Epc', 'window_run_id'], suffixes=['_IN', '_OUT'], how='inner').sort_values (['Epc', 'window_run_id'])\n",
    "\n",
    "    # Effectue une jointure entre ana et reflist pour ajouter des informations de référence sur chaque Epc\n",
    "    ana = pd.merge(ana, reflist, on='Epc', how='left')\n",
    "\n",
    "    # Crée une colonne booléenne indiquant si le prédicteur est égal à la référence\n",
    "    ana['pred_ana_bool'] = ana['window_run_id'].apply(lambda x:x.split('_')[0]).str.strip() == ana['refListId_actual'].astype(str).str.strip()\n",
    "\n",
    "    # Renvoie la table ana\n",
    "    return ana"
   ],
   "metadata": {
    "collapsed": false
   }
  },
  {
   "cell_type": "code",
   "execution_count": 108,
   "outputs": [],
   "source": [
    "test = analytical(df_timing_slices, timing_slices)"
   ],
   "metadata": {
    "collapsed": false
   }
  },
  {
   "cell_type": "code",
   "execution_count": 109,
   "outputs": [
    {
     "data": {
      "text/plain": "         Epc window_run_id slice_id_IN  in_IN  out_IN  order_IN slice_id_OUT  \\\n0      epc_0          5_10        up_2  -51.0  -110.0         2         up_0   \n1      epc_0          5_11        up_2  -49.0   -69.0         2         up_1   \n2      epc_0          5_12        up_2  -56.0   -63.0         2         up_0   \n3      epc_0          5_13        up_2  -50.0  -110.0         2         up_0   \n4      epc_0          5_14       mid_0  -51.0  -110.0         3         up_1   \n...      ...           ...         ...    ...     ...       ...          ...   \n6521  epc_99           0_7        up_2  -51.0   -62.0         2         up_1   \n6522  epc_99           0_8        up_2  -52.0   -60.0         2         up_0   \n6523  epc_99           0_9        up_2  -44.0   -61.0         2         up_1   \n6524  epc_99          1_14        up_1  -62.0  -110.0         1         up_0   \n6525  epc_99          8_13      down_1  -72.0  -110.0         7       down_0   \n\n      in_OUT  out_OUT  order_OUT  refListId_actual  Q refListId_actual  \\\n0     -110.0    -47.0          0                 5                  40   \n1      -63.0    -47.0          1                 5                  40   \n2     -110.0    -46.0          0                 5                  40   \n3      -64.0    -45.0          0                 5                  40   \n4      -67.0    -47.0          1                 5                  40   \n...      ...      ...        ...               ...                 ...   \n6521   -55.0    -49.0          1                 0                  16   \n6522   -61.0    -48.0          0                 0                  16   \n6523   -59.0    -48.0          1                 0                  16   \n6524   -63.0    -62.0          0                 0                  16   \n6525  -110.0    -60.0          6                 0                  16   \n\n      pred_ana_bool  \n0              True  \n1              True  \n2              True  \n3              True  \n4              True  \n...             ...  \n6521           True  \n6522           True  \n6523           True  \n6524          False  \n6525          False  \n\n[6526 rows x 13 columns]",
      "text/html": "<div>\n<style scoped>\n    .dataframe tbody tr th:only-of-type {\n        vertical-align: middle;\n    }\n\n    .dataframe tbody tr th {\n        vertical-align: top;\n    }\n\n    .dataframe thead th {\n        text-align: right;\n    }\n</style>\n<table border=\"1\" class=\"dataframe\">\n  <thead>\n    <tr style=\"text-align: right;\">\n      <th></th>\n      <th>Epc</th>\n      <th>window_run_id</th>\n      <th>slice_id_IN</th>\n      <th>in_IN</th>\n      <th>out_IN</th>\n      <th>order_IN</th>\n      <th>slice_id_OUT</th>\n      <th>in_OUT</th>\n      <th>out_OUT</th>\n      <th>order_OUT</th>\n      <th>refListId_actual</th>\n      <th>Q refListId_actual</th>\n      <th>pred_ana_bool</th>\n    </tr>\n  </thead>\n  <tbody>\n    <tr>\n      <th>0</th>\n      <td>epc_0</td>\n      <td>5_10</td>\n      <td>up_2</td>\n      <td>-51.0</td>\n      <td>-110.0</td>\n      <td>2</td>\n      <td>up_0</td>\n      <td>-110.0</td>\n      <td>-47.0</td>\n      <td>0</td>\n      <td>5</td>\n      <td>40</td>\n      <td>True</td>\n    </tr>\n    <tr>\n      <th>1</th>\n      <td>epc_0</td>\n      <td>5_11</td>\n      <td>up_2</td>\n      <td>-49.0</td>\n      <td>-69.0</td>\n      <td>2</td>\n      <td>up_1</td>\n      <td>-63.0</td>\n      <td>-47.0</td>\n      <td>1</td>\n      <td>5</td>\n      <td>40</td>\n      <td>True</td>\n    </tr>\n    <tr>\n      <th>2</th>\n      <td>epc_0</td>\n      <td>5_12</td>\n      <td>up_2</td>\n      <td>-56.0</td>\n      <td>-63.0</td>\n      <td>2</td>\n      <td>up_0</td>\n      <td>-110.0</td>\n      <td>-46.0</td>\n      <td>0</td>\n      <td>5</td>\n      <td>40</td>\n      <td>True</td>\n    </tr>\n    <tr>\n      <th>3</th>\n      <td>epc_0</td>\n      <td>5_13</td>\n      <td>up_2</td>\n      <td>-50.0</td>\n      <td>-110.0</td>\n      <td>2</td>\n      <td>up_0</td>\n      <td>-64.0</td>\n      <td>-45.0</td>\n      <td>0</td>\n      <td>5</td>\n      <td>40</td>\n      <td>True</td>\n    </tr>\n    <tr>\n      <th>4</th>\n      <td>epc_0</td>\n      <td>5_14</td>\n      <td>mid_0</td>\n      <td>-51.0</td>\n      <td>-110.0</td>\n      <td>3</td>\n      <td>up_1</td>\n      <td>-67.0</td>\n      <td>-47.0</td>\n      <td>1</td>\n      <td>5</td>\n      <td>40</td>\n      <td>True</td>\n    </tr>\n    <tr>\n      <th>...</th>\n      <td>...</td>\n      <td>...</td>\n      <td>...</td>\n      <td>...</td>\n      <td>...</td>\n      <td>...</td>\n      <td>...</td>\n      <td>...</td>\n      <td>...</td>\n      <td>...</td>\n      <td>...</td>\n      <td>...</td>\n      <td>...</td>\n    </tr>\n    <tr>\n      <th>6521</th>\n      <td>epc_99</td>\n      <td>0_7</td>\n      <td>up_2</td>\n      <td>-51.0</td>\n      <td>-62.0</td>\n      <td>2</td>\n      <td>up_1</td>\n      <td>-55.0</td>\n      <td>-49.0</td>\n      <td>1</td>\n      <td>0</td>\n      <td>16</td>\n      <td>True</td>\n    </tr>\n    <tr>\n      <th>6522</th>\n      <td>epc_99</td>\n      <td>0_8</td>\n      <td>up_2</td>\n      <td>-52.0</td>\n      <td>-60.0</td>\n      <td>2</td>\n      <td>up_0</td>\n      <td>-61.0</td>\n      <td>-48.0</td>\n      <td>0</td>\n      <td>0</td>\n      <td>16</td>\n      <td>True</td>\n    </tr>\n    <tr>\n      <th>6523</th>\n      <td>epc_99</td>\n      <td>0_9</td>\n      <td>up_2</td>\n      <td>-44.0</td>\n      <td>-61.0</td>\n      <td>2</td>\n      <td>up_1</td>\n      <td>-59.0</td>\n      <td>-48.0</td>\n      <td>1</td>\n      <td>0</td>\n      <td>16</td>\n      <td>True</td>\n    </tr>\n    <tr>\n      <th>6524</th>\n      <td>epc_99</td>\n      <td>1_14</td>\n      <td>up_1</td>\n      <td>-62.0</td>\n      <td>-110.0</td>\n      <td>1</td>\n      <td>up_0</td>\n      <td>-63.0</td>\n      <td>-62.0</td>\n      <td>0</td>\n      <td>0</td>\n      <td>16</td>\n      <td>False</td>\n    </tr>\n    <tr>\n      <th>6525</th>\n      <td>epc_99</td>\n      <td>8_13</td>\n      <td>down_1</td>\n      <td>-72.0</td>\n      <td>-110.0</td>\n      <td>7</td>\n      <td>down_0</td>\n      <td>-110.0</td>\n      <td>-60.0</td>\n      <td>6</td>\n      <td>0</td>\n      <td>16</td>\n      <td>False</td>\n    </tr>\n  </tbody>\n</table>\n<p>6526 rows × 13 columns</p>\n</div>"
     },
     "execution_count": 109,
     "metadata": {},
     "output_type": "execute_result"
    }
   ],
   "source": [
    "test"
   ],
   "metadata": {
    "collapsed": false
   }
  },
  {
   "cell_type": "code",
   "execution_count": 110,
   "outputs": [
    {
     "data": {
      "text/plain": "\"\\ndef dataset(tags, windows, rssi_quantile):\\n    # Calcul du quantile de Rssi pour chaque Epc, fenêtre, sous-fenêtre et position\\n    ds_rssi = tags.groupby(['Epc', 'window_run_id', 'slice_id', 'loc'])['Rssi'].quantile(rssi_quantile)\\n    ds_rssi = ds_rssi.unstack(['slice_id', 'loc'], fill_value=-110) # Transformation des colonnes slice_id et loc en colonnes pour chaque combinaison de valeurs uniques, avec -110\\n                                                                    # comme valeur par défaut pour les combinaisons non existantes\\n\\n    ds_rssi.columns = [x[0]+'_'+x[1] for x in ds_rssi.columns]  # Renommage des colonnes\\n    ds_rssi = ds_rssi.reset_index(drop=False)  # Réinitialisation de l'index\\n\\n    # Comptage du nombre de lectures pour chaque Epc, fenêtre, sous-fenêtre et position\\n    ds_rc = tags.groupby(['Epc', 'window_run_id', 'slice_id', 'loc']).size()\\n    ds_rc = ds_rc.unstack(['slice_id', 'loc'], fill_value=0)\\n\\n    ds_rc.columns = [x[0] + '_' + x[1] for x in ds_rc.columns]  # Renommage des colonnes\\n    ds_rc = ds_rc.reset_index(drop=False)  # Réinitialisation de l'index\\n\\n    # Fusion des tableaux précédents en utilisant les colonnes Epc et window_run_id\\n    ds = pd.merge(ds_rssi, ds_rc, on=['Epc', 'window_run_id'], suffixes=['_rssi', '_rc'])\\n\\n    # Ajout de la colonne window_width\\n    ds['window_run_id'] = ds['window_run_id'].astype('int64')\\n    ds = pd.merge(ds, windows[['window_run_id', 'window_width']], on='window_run_id', how='left')\\n\\n    # Calcul du nombre d'Epc différents pour chaque fenêtre\\n    Epcs_window = tags.groupby(['window_run_id'])['Epc'].nunique().rename('Epcs_window').reset_index(drop=False)\\n\\n    Epcs_window['window_run_id'] = Epcs_window['window_run_id'].astype('int64')\\n    ds = pd.merge(ds, Epcs_window, on='window_run_id', how='left')\\n\\n    # Calcul du nombre de lectures pour chaque fenêtre\\n    reads_window = tags.groupby(['window_run_id']).size().rename('reads_window').reset_index(drop=False)\\n\\n    reads_window['window_run_id'] = reads_window['window_run_id'].astype('int64')\\n    ds = pd.merge(ds, reads_window, on='window_run_id', how='left')\\n\\n    return ds\\n    \""
     },
     "execution_count": 110,
     "metadata": {},
     "output_type": "execute_result"
    }
   ],
   "source": [
    "\"\"\"\n",
    "def dataset(tags, windows, rssi_quantile):\n",
    "    # Calcul du quantile de Rssi pour chaque Epc, fenêtre, sous-fenêtre et position\n",
    "    ds_rssi = tags.groupby(['Epc', 'window_run_id', 'slice_id', 'loc'])['Rssi'].quantile(rssi_quantile)\n",
    "    ds_rssi = ds_rssi.unstack(['slice_id', 'loc'], fill_value=-110) # Transformation des colonnes slice_id et loc en colonnes pour chaque combinaison de valeurs uniques, avec -110\n",
    "                                                                    # comme valeur par défaut pour les combinaisons non existantes\n",
    "\n",
    "    ds_rssi.columns = [x[0]+'_'+x[1] for x in ds_rssi.columns]  # Renommage des colonnes\n",
    "    ds_rssi = ds_rssi.reset_index(drop=False)  # Réinitialisation de l'index\n",
    "\n",
    "    # Comptage du nombre de lectures pour chaque Epc, fenêtre, sous-fenêtre et position\n",
    "    ds_rc = tags.groupby(['Epc', 'window_run_id', 'slice_id', 'loc']).size()\n",
    "    ds_rc = ds_rc.unstack(['slice_id', 'loc'], fill_value=0)\n",
    "\n",
    "    ds_rc.columns = [x[0] + '_' + x[1] for x in ds_rc.columns]  # Renommage des colonnes\n",
    "    ds_rc = ds_rc.reset_index(drop=False)  # Réinitialisation de l'index\n",
    "\n",
    "    # Fusion des tableaux précédents en utilisant les colonnes Epc et window_run_id\n",
    "    ds = pd.merge(ds_rssi, ds_rc, on=['Epc', 'window_run_id'], suffixes=['_rssi', '_rc'])\n",
    "\n",
    "    # Ajout de la colonne window_width\n",
    "    ds['window_run_id'] = ds['window_run_id'].astype('int64')\n",
    "    ds = pd.merge(ds, windows[['window_run_id', 'window_width']], on='window_run_id', how='left')\n",
    "\n",
    "    # Calcul du nombre d'Epc différents pour chaque fenêtre\n",
    "    Epcs_window = tags.groupby(['window_run_id'])['Epc'].nunique().rename('Epcs_window').reset_index(drop=False)\n",
    "\n",
    "    Epcs_window['window_run_id'] = Epcs_window['window_run_id'].astype('int64')\n",
    "    ds = pd.merge(ds, Epcs_window, on='window_run_id', how='left')\n",
    "\n",
    "    # Calcul du nombre de lectures pour chaque fenêtre\n",
    "    reads_window = tags.groupby(['window_run_id']).size().rename('reads_window').reset_index(drop=False)\n",
    "\n",
    "    reads_window['window_run_id'] = reads_window['window_run_id'].astype('int64')\n",
    "    ds = pd.merge(ds, reads_window, on='window_run_id', how='left')\n",
    "\n",
    "    return ds\n",
    "    \"\"\""
   ],
   "metadata": {
    "collapsed": false
   }
  },
  {
   "cell_type": "code",
   "execution_count": 111,
   "outputs": [],
   "source": [
    "# sample: one tag in one window\n",
    "\n",
    "def dataset(tags, windows, rssi_quantile):\n",
    "    ds_rssi = tags.groupby(['Epc', 'refListId','refListId_actual', 'slice_id', 'loc'])['Rssi'].quantile(rssi_quantile)\\\n",
    "            .unstack(['slice_id','loc'], fill_value=-110)\n",
    "    ds_rssi.columns = [x[0]+'_'+x[1] for x in ds_rssi.columns]\n",
    "    ds_rssi = ds_rssi.reset_index(drop=False)\n",
    "#\n",
    "    ds_rc = tags.groupby(['Epc', 'refListId','refListId_actual', 'slice_id', 'loc']).size().unstack(['slice_id', 'loc'], fill_value=0)\n",
    "    ds_rc.columns = [x[0]+'_'+x[1] for x in ds_rc.columns]\n",
    "    ds_rc = ds_rc.reset_index(drop=False)\n",
    "#\n",
    "    ds= pd.merge(ds_rssi, ds_rc, on =['Epc', 'refListId', 'refListId_actual'], suffixes=['_rssi', '_rc'])\n",
    "# window_width\n",
    "    ds = pd.merge(ds, windows[['refListId', 'timing_width']], on = 'refListId', how='left')\n",
    "# Epcs_window\n",
    "    Q_Epcs_window = tags.groupby(['refListId'])['Epc'].nunique().rename('Epcs_window').reset_index(drop=False)\n",
    "    ds = pd.merge(ds, Q_Epcs_window, on='refListId', how='left')\n",
    "# reads_window\n",
    "    Q_reads_window = tags.groupby(['refListId']).size().rename('reads_window').reset_index(drop=False)\n",
    "    ds = pd.merge(ds, Q_reads_window, on='refListId', how='left')\n",
    "    return ds"
   ],
   "metadata": {
    "collapsed": false
   }
  },
  {
   "cell_type": "code",
   "execution_count": 112,
   "outputs": [
    {
     "name": "stderr",
     "output_type": "stream",
     "text": [
      "/var/folders/6n/7q_b9g2s03b1blt5jrv9x6000000gn/T/ipykernel_1889/3586039851.py:16: SettingWithCopyWarning: \n",
      "A value is trying to be set on a copy of a slice from a DataFrame.\n",
      "Try using .loc[row_indexer,col_indexer] = value instead\n",
      "\n",
      "See the caveats in the documentation: https://pandas.pydata.org/pandas-docs/stable/user_guide/indexing.html#returning-a-view-versus-a-copy\n",
      "  timing_slices.loc[:, 'timing_width'] = (timing_slices['ciuchStopdown'] - timing_slices['ciuchStartup']).apply(lambda x: x.total_seconds())\n"
     ]
    }
   ],
   "source": [
    "\"\"\"\n",
    "# calculer la durée de chaque fenêtre de lecture\n",
    "timing['window_width'] = timing['ciuchStop'] - timing['ciuchStartup']\n",
    "\n",
    "# créer un identifiant unique pour chaque fenêtre de lecture\n",
    "timing['window_run_id'] = timing.groupby('run').ngroup()\n",
    "\n",
    "# extraire les colonnes qui nous intéressent\n",
    "window_df = timing[['window_run_id', 'window_width']]\n",
    "\n",
    "#Conversion du type de la colonne de Date à float\n",
    "window_df['window_width'] = window_df['window_width'].dt.total_seconds().astype(float)\n",
    "\n",
    "window_df\n",
    "\"\"\"\n",
    "timing_slices.loc[:, 'timing_width'] = (timing_slices['ciuchStopdown'] - timing_slices['ciuchStartup']).apply(lambda x: x.total_seconds())"
   ],
   "metadata": {
    "collapsed": false
   }
  },
  {
   "cell_type": "code",
   "execution_count": 113,
   "outputs": [
    {
     "data": {
      "text/plain": "        run      Epc  refListId  refListId_last               ciuchStartup  \\\n8978      2  epc_100          0               9 2019-11-07 18:54:55.894500   \n9014      2  epc_100          0               9 2019-11-07 18:54:55.894500   \n9044      2  epc_100          0               9 2019-11-07 18:54:55.894500   \n9047      2  epc_100          0               9 2019-11-07 18:54:55.894500   \n9084      2  epc_100          0               9 2019-11-07 18:54:55.894500   \n...     ...      ...        ...             ...                        ...   \n354252   39   epc_99          9               8 2019-11-07 19:34:31.683000   \n354264   39   epc_99          9               8 2019-11-07 19:34:31.683000   \n354348   39   epc_99          9               8 2019-11-07 19:34:31.683000   \n354349   39   epc_99          9               8 2019-11-07 19:34:31.683000   \n354351   39   epc_99          9               8 2019-11-07 19:34:31.683000   \n\n       slice_id                         slice             LogTime  \\\n8978       up_0 2019-11-07 18:54:55.894500000 2019-11-07 18:54:56   \n9014       up_0 2019-11-07 18:54:55.894500000 2019-11-07 18:54:56   \n9044       up_0 2019-11-07 18:54:55.894500000 2019-11-07 18:54:56   \n9047       up_0 2019-11-07 18:54:55.894500000 2019-11-07 18:54:56   \n9084       up_0 2019-11-07 18:54:55.894500000 2019-11-07 18:54:56   \n...         ...                           ...                 ...   \n354252   down_1 2019-11-07 19:34:36.340333333 2019-11-07 19:34:37   \n354264   down_1 2019-11-07 19:34:36.340333333 2019-11-07 19:34:37   \n354348   down_1 2019-11-07 19:34:36.340333333 2019-11-07 19:34:37   \n354349   down_1 2019-11-07 19:34:36.340333333 2019-11-07 19:34:37   \n354351   down_1 2019-11-07 19:34:36.340333333 2019-11-07 19:34:37   \n\n                    ciuchStart               ciuchStop  \\\n8978   2019-11-07 18:54:57.738 2019-11-07 18:54:59.584   \n9014   2019-11-07 18:54:57.738 2019-11-07 18:54:59.584   \n9044   2019-11-07 18:54:57.738 2019-11-07 18:54:59.584   \n9047   2019-11-07 18:54:57.738 2019-11-07 18:54:59.584   \n9084   2019-11-07 18:54:57.738 2019-11-07 18:54:59.584   \n...                        ...                     ...   \n354252 2019-11-07 19:34:33.696 2019-11-07 19:34:35.671   \n354264 2019-11-07 19:34:33.696 2019-11-07 19:34:35.671   \n354348 2019-11-07 19:34:33.696 2019-11-07 19:34:35.671   \n354349 2019-11-07 19:34:33.696 2019-11-07 19:34:35.671   \n354351 2019-11-07 19:34:33.696 2019-11-07 19:34:35.671   \n\n                 ciuchStopdown  Rssi  loc                     t0_run  \\\n8978   2019-11-07 18:55:01.765 -54.0  out 2019-11-07 18:54:55.894500   \n9014   2019-11-07 18:55:01.765 -69.0   in 2019-11-07 18:54:55.894500   \n9044   2019-11-07 18:55:01.765 -50.0  out 2019-11-07 18:54:55.894500   \n9047   2019-11-07 18:55:01.765 -47.0  out 2019-11-07 18:54:55.894500   \n9084   2019-11-07 18:55:01.765 -68.0   in 2019-11-07 18:54:55.894500   \n...                        ...   ...  ...                        ...   \n354252 2019-11-07 19:34:37.679 -51.0  out 2019-11-07 19:33:38.447500   \n354264 2019-11-07 19:34:37.679 -62.0   in 2019-11-07 19:33:38.447500   \n354348 2019-11-07 19:34:37.679 -49.0  out 2019-11-07 19:33:38.447500   \n354349 2019-11-07 19:34:37.679 -49.0  out 2019-11-07 19:33:38.447500   \n354351 2019-11-07 19:34:37.679 -62.0   in 2019-11-07 19:33:38.447500   \n\n        refListId_actual       dt window_run_id  \n8978                   0   0.1055           0_2  \n9014                   0   0.1055           0_2  \n9044                   0   0.1055           0_2  \n9047                   0   0.1055           0_2  \n9084                   0   0.1055           0_2  \n...                  ...      ...           ...  \n354252                 0  58.5525          9_39  \n354264                 0  58.5525          9_39  \n354348                 0  58.5525          9_39  \n354349                 0  58.5525          9_39  \n354351                 0  58.5525          9_39  \n\n[307965 rows x 17 columns]",
      "text/html": "<div>\n<style scoped>\n    .dataframe tbody tr th:only-of-type {\n        vertical-align: middle;\n    }\n\n    .dataframe tbody tr th {\n        vertical-align: top;\n    }\n\n    .dataframe thead th {\n        text-align: right;\n    }\n</style>\n<table border=\"1\" class=\"dataframe\">\n  <thead>\n    <tr style=\"text-align: right;\">\n      <th></th>\n      <th>run</th>\n      <th>Epc</th>\n      <th>refListId</th>\n      <th>refListId_last</th>\n      <th>ciuchStartup</th>\n      <th>slice_id</th>\n      <th>slice</th>\n      <th>LogTime</th>\n      <th>ciuchStart</th>\n      <th>ciuchStop</th>\n      <th>ciuchStopdown</th>\n      <th>Rssi</th>\n      <th>loc</th>\n      <th>t0_run</th>\n      <th>refListId_actual</th>\n      <th>dt</th>\n      <th>window_run_id</th>\n    </tr>\n  </thead>\n  <tbody>\n    <tr>\n      <th>8978</th>\n      <td>2</td>\n      <td>epc_100</td>\n      <td>0</td>\n      <td>9</td>\n      <td>2019-11-07 18:54:55.894500</td>\n      <td>up_0</td>\n      <td>2019-11-07 18:54:55.894500000</td>\n      <td>2019-11-07 18:54:56</td>\n      <td>2019-11-07 18:54:57.738</td>\n      <td>2019-11-07 18:54:59.584</td>\n      <td>2019-11-07 18:55:01.765</td>\n      <td>-54.0</td>\n      <td>out</td>\n      <td>2019-11-07 18:54:55.894500</td>\n      <td>0</td>\n      <td>0.1055</td>\n      <td>0_2</td>\n    </tr>\n    <tr>\n      <th>9014</th>\n      <td>2</td>\n      <td>epc_100</td>\n      <td>0</td>\n      <td>9</td>\n      <td>2019-11-07 18:54:55.894500</td>\n      <td>up_0</td>\n      <td>2019-11-07 18:54:55.894500000</td>\n      <td>2019-11-07 18:54:56</td>\n      <td>2019-11-07 18:54:57.738</td>\n      <td>2019-11-07 18:54:59.584</td>\n      <td>2019-11-07 18:55:01.765</td>\n      <td>-69.0</td>\n      <td>in</td>\n      <td>2019-11-07 18:54:55.894500</td>\n      <td>0</td>\n      <td>0.1055</td>\n      <td>0_2</td>\n    </tr>\n    <tr>\n      <th>9044</th>\n      <td>2</td>\n      <td>epc_100</td>\n      <td>0</td>\n      <td>9</td>\n      <td>2019-11-07 18:54:55.894500</td>\n      <td>up_0</td>\n      <td>2019-11-07 18:54:55.894500000</td>\n      <td>2019-11-07 18:54:56</td>\n      <td>2019-11-07 18:54:57.738</td>\n      <td>2019-11-07 18:54:59.584</td>\n      <td>2019-11-07 18:55:01.765</td>\n      <td>-50.0</td>\n      <td>out</td>\n      <td>2019-11-07 18:54:55.894500</td>\n      <td>0</td>\n      <td>0.1055</td>\n      <td>0_2</td>\n    </tr>\n    <tr>\n      <th>9047</th>\n      <td>2</td>\n      <td>epc_100</td>\n      <td>0</td>\n      <td>9</td>\n      <td>2019-11-07 18:54:55.894500</td>\n      <td>up_0</td>\n      <td>2019-11-07 18:54:55.894500000</td>\n      <td>2019-11-07 18:54:56</td>\n      <td>2019-11-07 18:54:57.738</td>\n      <td>2019-11-07 18:54:59.584</td>\n      <td>2019-11-07 18:55:01.765</td>\n      <td>-47.0</td>\n      <td>out</td>\n      <td>2019-11-07 18:54:55.894500</td>\n      <td>0</td>\n      <td>0.1055</td>\n      <td>0_2</td>\n    </tr>\n    <tr>\n      <th>9084</th>\n      <td>2</td>\n      <td>epc_100</td>\n      <td>0</td>\n      <td>9</td>\n      <td>2019-11-07 18:54:55.894500</td>\n      <td>up_0</td>\n      <td>2019-11-07 18:54:55.894500000</td>\n      <td>2019-11-07 18:54:56</td>\n      <td>2019-11-07 18:54:57.738</td>\n      <td>2019-11-07 18:54:59.584</td>\n      <td>2019-11-07 18:55:01.765</td>\n      <td>-68.0</td>\n      <td>in</td>\n      <td>2019-11-07 18:54:55.894500</td>\n      <td>0</td>\n      <td>0.1055</td>\n      <td>0_2</td>\n    </tr>\n    <tr>\n      <th>...</th>\n      <td>...</td>\n      <td>...</td>\n      <td>...</td>\n      <td>...</td>\n      <td>...</td>\n      <td>...</td>\n      <td>...</td>\n      <td>...</td>\n      <td>...</td>\n      <td>...</td>\n      <td>...</td>\n      <td>...</td>\n      <td>...</td>\n      <td>...</td>\n      <td>...</td>\n      <td>...</td>\n      <td>...</td>\n    </tr>\n    <tr>\n      <th>354252</th>\n      <td>39</td>\n      <td>epc_99</td>\n      <td>9</td>\n      <td>8</td>\n      <td>2019-11-07 19:34:31.683000</td>\n      <td>down_1</td>\n      <td>2019-11-07 19:34:36.340333333</td>\n      <td>2019-11-07 19:34:37</td>\n      <td>2019-11-07 19:34:33.696</td>\n      <td>2019-11-07 19:34:35.671</td>\n      <td>2019-11-07 19:34:37.679</td>\n      <td>-51.0</td>\n      <td>out</td>\n      <td>2019-11-07 19:33:38.447500</td>\n      <td>0</td>\n      <td>58.5525</td>\n      <td>9_39</td>\n    </tr>\n    <tr>\n      <th>354264</th>\n      <td>39</td>\n      <td>epc_99</td>\n      <td>9</td>\n      <td>8</td>\n      <td>2019-11-07 19:34:31.683000</td>\n      <td>down_1</td>\n      <td>2019-11-07 19:34:36.340333333</td>\n      <td>2019-11-07 19:34:37</td>\n      <td>2019-11-07 19:34:33.696</td>\n      <td>2019-11-07 19:34:35.671</td>\n      <td>2019-11-07 19:34:37.679</td>\n      <td>-62.0</td>\n      <td>in</td>\n      <td>2019-11-07 19:33:38.447500</td>\n      <td>0</td>\n      <td>58.5525</td>\n      <td>9_39</td>\n    </tr>\n    <tr>\n      <th>354348</th>\n      <td>39</td>\n      <td>epc_99</td>\n      <td>9</td>\n      <td>8</td>\n      <td>2019-11-07 19:34:31.683000</td>\n      <td>down_1</td>\n      <td>2019-11-07 19:34:36.340333333</td>\n      <td>2019-11-07 19:34:37</td>\n      <td>2019-11-07 19:34:33.696</td>\n      <td>2019-11-07 19:34:35.671</td>\n      <td>2019-11-07 19:34:37.679</td>\n      <td>-49.0</td>\n      <td>out</td>\n      <td>2019-11-07 19:33:38.447500</td>\n      <td>0</td>\n      <td>58.5525</td>\n      <td>9_39</td>\n    </tr>\n    <tr>\n      <th>354349</th>\n      <td>39</td>\n      <td>epc_99</td>\n      <td>9</td>\n      <td>8</td>\n      <td>2019-11-07 19:34:31.683000</td>\n      <td>down_1</td>\n      <td>2019-11-07 19:34:36.340333333</td>\n      <td>2019-11-07 19:34:37</td>\n      <td>2019-11-07 19:34:33.696</td>\n      <td>2019-11-07 19:34:35.671</td>\n      <td>2019-11-07 19:34:37.679</td>\n      <td>-49.0</td>\n      <td>out</td>\n      <td>2019-11-07 19:33:38.447500</td>\n      <td>0</td>\n      <td>58.5525</td>\n      <td>9_39</td>\n    </tr>\n    <tr>\n      <th>354351</th>\n      <td>39</td>\n      <td>epc_99</td>\n      <td>9</td>\n      <td>8</td>\n      <td>2019-11-07 19:34:31.683000</td>\n      <td>down_1</td>\n      <td>2019-11-07 19:34:36.340333333</td>\n      <td>2019-11-07 19:34:37</td>\n      <td>2019-11-07 19:34:33.696</td>\n      <td>2019-11-07 19:34:35.671</td>\n      <td>2019-11-07 19:34:37.679</td>\n      <td>-62.0</td>\n      <td>in</td>\n      <td>2019-11-07 19:33:38.447500</td>\n      <td>0</td>\n      <td>58.5525</td>\n      <td>9_39</td>\n    </tr>\n  </tbody>\n</table>\n<p>307965 rows × 17 columns</p>\n</div>"
     },
     "execution_count": 113,
     "metadata": {},
     "output_type": "execute_result"
    }
   ],
   "source": [
    "df_timing_slices"
   ],
   "metadata": {
    "collapsed": false
   }
  },
  {
   "cell_type": "code",
   "execution_count": 114,
   "outputs": [],
   "source": [
    "test2 = dataset(df_timing_slices, timing_slices, 1)"
   ],
   "metadata": {
    "collapsed": false
   }
  },
  {
   "cell_type": "code",
   "execution_count": 115,
   "outputs": [
    {
     "data": {
      "text/plain": "           Epc  refListId  refListId_actual  down_0_out_rssi  down_1_out_rssi  \\\n0        epc_0          0                 5            -65.0            -65.0   \n1        epc_0          0                 5            -65.0            -65.0   \n2        epc_0          0                 5            -65.0            -65.0   \n3        epc_0          0                 5            -65.0            -65.0   \n4        epc_0          0                 5            -65.0            -65.0   \n...        ...        ...               ...              ...              ...   \n449509  epc_99          9                 0            -44.0            -44.0   \n449510  epc_99          9                 0            -44.0            -44.0   \n449511  epc_99          9                 0            -44.0            -44.0   \n449512  epc_99          9                 0            -44.0            -44.0   \n449513  epc_99          9                 0            -44.0            -44.0   \n\n        down_2_out_rssi  mid_0_out_rssi  mid_2_out_rssi  up_2_out_rssi  \\\n0                 -63.0           -66.0           -67.0          -64.0   \n1                 -63.0           -66.0           -67.0          -64.0   \n2                 -63.0           -66.0           -67.0          -64.0   \n3                 -63.0           -66.0           -67.0          -64.0   \n4                 -63.0           -66.0           -67.0          -64.0   \n...                 ...             ...             ...            ...   \n449509            -44.0           -41.0           -43.0          -46.0   \n449510            -44.0           -41.0           -43.0          -46.0   \n449511            -44.0           -41.0           -43.0          -46.0   \n449512            -44.0           -41.0           -43.0          -46.0   \n449513            -44.0           -41.0           -43.0          -46.0   \n\n        mid_1_out_rssi  ...  down_2_in_rc  mid_0_in_rc  mid_1_in_rc  \\\n0               -110.0  ...             0            0            0   \n1               -110.0  ...             0            0            0   \n2               -110.0  ...             0            0            0   \n3               -110.0  ...             0            0            0   \n4               -110.0  ...             0            0            0   \n...                ...  ...           ...          ...          ...   \n449509           -44.0  ...            75           15           38   \n449510           -44.0  ...            75           15           38   \n449511           -44.0  ...            75           15           38   \n449512           -44.0  ...            75           15           38   \n449513           -44.0  ...            75           15           38   \n\n        mid_2_in_rc  up_0_in_rc  up_1_in_rc  up_2_in_rc  timing_width  \\\n0                 0           0           0           0        5.8705   \n1                 0           0           0           0        5.8705   \n2                 0           0           0           0        5.8705   \n3                 0           0           0           0        5.8705   \n4                 0           0           0           0        5.8705   \n...             ...         ...         ...         ...           ...   \n449509           63           0           2           1        5.9960   \n449510           63           0           2           1        5.9960   \n449511           63           0           2           1        5.9960   \n449512           63           0           2           1        5.9960   \n449513           63           0           2           1        5.9960   \n\n        Epcs_window  reads_window  \n0               133         30866  \n1               133         30866  \n2               133         30866  \n3               133         30866  \n4               133         30866  \n...             ...           ...  \n449509          134         26144  \n449510          134         26144  \n449511          134         26144  \n449512          134         26144  \n449513          134         26144  \n\n[449514 rows x 42 columns]",
      "text/html": "<div>\n<style scoped>\n    .dataframe tbody tr th:only-of-type {\n        vertical-align: middle;\n    }\n\n    .dataframe tbody tr th {\n        vertical-align: top;\n    }\n\n    .dataframe thead th {\n        text-align: right;\n    }\n</style>\n<table border=\"1\" class=\"dataframe\">\n  <thead>\n    <tr style=\"text-align: right;\">\n      <th></th>\n      <th>Epc</th>\n      <th>refListId</th>\n      <th>refListId_actual</th>\n      <th>down_0_out_rssi</th>\n      <th>down_1_out_rssi</th>\n      <th>down_2_out_rssi</th>\n      <th>mid_0_out_rssi</th>\n      <th>mid_2_out_rssi</th>\n      <th>up_2_out_rssi</th>\n      <th>mid_1_out_rssi</th>\n      <th>...</th>\n      <th>down_2_in_rc</th>\n      <th>mid_0_in_rc</th>\n      <th>mid_1_in_rc</th>\n      <th>mid_2_in_rc</th>\n      <th>up_0_in_rc</th>\n      <th>up_1_in_rc</th>\n      <th>up_2_in_rc</th>\n      <th>timing_width</th>\n      <th>Epcs_window</th>\n      <th>reads_window</th>\n    </tr>\n  </thead>\n  <tbody>\n    <tr>\n      <th>0</th>\n      <td>epc_0</td>\n      <td>0</td>\n      <td>5</td>\n      <td>-65.0</td>\n      <td>-65.0</td>\n      <td>-63.0</td>\n      <td>-66.0</td>\n      <td>-67.0</td>\n      <td>-64.0</td>\n      <td>-110.0</td>\n      <td>...</td>\n      <td>0</td>\n      <td>0</td>\n      <td>0</td>\n      <td>0</td>\n      <td>0</td>\n      <td>0</td>\n      <td>0</td>\n      <td>5.8705</td>\n      <td>133</td>\n      <td>30866</td>\n    </tr>\n    <tr>\n      <th>1</th>\n      <td>epc_0</td>\n      <td>0</td>\n      <td>5</td>\n      <td>-65.0</td>\n      <td>-65.0</td>\n      <td>-63.0</td>\n      <td>-66.0</td>\n      <td>-67.0</td>\n      <td>-64.0</td>\n      <td>-110.0</td>\n      <td>...</td>\n      <td>0</td>\n      <td>0</td>\n      <td>0</td>\n      <td>0</td>\n      <td>0</td>\n      <td>0</td>\n      <td>0</td>\n      <td>5.8705</td>\n      <td>133</td>\n      <td>30866</td>\n    </tr>\n    <tr>\n      <th>2</th>\n      <td>epc_0</td>\n      <td>0</td>\n      <td>5</td>\n      <td>-65.0</td>\n      <td>-65.0</td>\n      <td>-63.0</td>\n      <td>-66.0</td>\n      <td>-67.0</td>\n      <td>-64.0</td>\n      <td>-110.0</td>\n      <td>...</td>\n      <td>0</td>\n      <td>0</td>\n      <td>0</td>\n      <td>0</td>\n      <td>0</td>\n      <td>0</td>\n      <td>0</td>\n      <td>5.8705</td>\n      <td>133</td>\n      <td>30866</td>\n    </tr>\n    <tr>\n      <th>3</th>\n      <td>epc_0</td>\n      <td>0</td>\n      <td>5</td>\n      <td>-65.0</td>\n      <td>-65.0</td>\n      <td>-63.0</td>\n      <td>-66.0</td>\n      <td>-67.0</td>\n      <td>-64.0</td>\n      <td>-110.0</td>\n      <td>...</td>\n      <td>0</td>\n      <td>0</td>\n      <td>0</td>\n      <td>0</td>\n      <td>0</td>\n      <td>0</td>\n      <td>0</td>\n      <td>5.8705</td>\n      <td>133</td>\n      <td>30866</td>\n    </tr>\n    <tr>\n      <th>4</th>\n      <td>epc_0</td>\n      <td>0</td>\n      <td>5</td>\n      <td>-65.0</td>\n      <td>-65.0</td>\n      <td>-63.0</td>\n      <td>-66.0</td>\n      <td>-67.0</td>\n      <td>-64.0</td>\n      <td>-110.0</td>\n      <td>...</td>\n      <td>0</td>\n      <td>0</td>\n      <td>0</td>\n      <td>0</td>\n      <td>0</td>\n      <td>0</td>\n      <td>0</td>\n      <td>5.8705</td>\n      <td>133</td>\n      <td>30866</td>\n    </tr>\n    <tr>\n      <th>...</th>\n      <td>...</td>\n      <td>...</td>\n      <td>...</td>\n      <td>...</td>\n      <td>...</td>\n      <td>...</td>\n      <td>...</td>\n      <td>...</td>\n      <td>...</td>\n      <td>...</td>\n      <td>...</td>\n      <td>...</td>\n      <td>...</td>\n      <td>...</td>\n      <td>...</td>\n      <td>...</td>\n      <td>...</td>\n      <td>...</td>\n      <td>...</td>\n      <td>...</td>\n      <td>...</td>\n    </tr>\n    <tr>\n      <th>449509</th>\n      <td>epc_99</td>\n      <td>9</td>\n      <td>0</td>\n      <td>-44.0</td>\n      <td>-44.0</td>\n      <td>-44.0</td>\n      <td>-41.0</td>\n      <td>-43.0</td>\n      <td>-46.0</td>\n      <td>-44.0</td>\n      <td>...</td>\n      <td>75</td>\n      <td>15</td>\n      <td>38</td>\n      <td>63</td>\n      <td>0</td>\n      <td>2</td>\n      <td>1</td>\n      <td>5.9960</td>\n      <td>134</td>\n      <td>26144</td>\n    </tr>\n    <tr>\n      <th>449510</th>\n      <td>epc_99</td>\n      <td>9</td>\n      <td>0</td>\n      <td>-44.0</td>\n      <td>-44.0</td>\n      <td>-44.0</td>\n      <td>-41.0</td>\n      <td>-43.0</td>\n      <td>-46.0</td>\n      <td>-44.0</td>\n      <td>...</td>\n      <td>75</td>\n      <td>15</td>\n      <td>38</td>\n      <td>63</td>\n      <td>0</td>\n      <td>2</td>\n      <td>1</td>\n      <td>5.9960</td>\n      <td>134</td>\n      <td>26144</td>\n    </tr>\n    <tr>\n      <th>449511</th>\n      <td>epc_99</td>\n      <td>9</td>\n      <td>0</td>\n      <td>-44.0</td>\n      <td>-44.0</td>\n      <td>-44.0</td>\n      <td>-41.0</td>\n      <td>-43.0</td>\n      <td>-46.0</td>\n      <td>-44.0</td>\n      <td>...</td>\n      <td>75</td>\n      <td>15</td>\n      <td>38</td>\n      <td>63</td>\n      <td>0</td>\n      <td>2</td>\n      <td>1</td>\n      <td>5.9960</td>\n      <td>134</td>\n      <td>26144</td>\n    </tr>\n    <tr>\n      <th>449512</th>\n      <td>epc_99</td>\n      <td>9</td>\n      <td>0</td>\n      <td>-44.0</td>\n      <td>-44.0</td>\n      <td>-44.0</td>\n      <td>-41.0</td>\n      <td>-43.0</td>\n      <td>-46.0</td>\n      <td>-44.0</td>\n      <td>...</td>\n      <td>75</td>\n      <td>15</td>\n      <td>38</td>\n      <td>63</td>\n      <td>0</td>\n      <td>2</td>\n      <td>1</td>\n      <td>5.9960</td>\n      <td>134</td>\n      <td>26144</td>\n    </tr>\n    <tr>\n      <th>449513</th>\n      <td>epc_99</td>\n      <td>9</td>\n      <td>0</td>\n      <td>-44.0</td>\n      <td>-44.0</td>\n      <td>-44.0</td>\n      <td>-41.0</td>\n      <td>-43.0</td>\n      <td>-46.0</td>\n      <td>-44.0</td>\n      <td>...</td>\n      <td>75</td>\n      <td>15</td>\n      <td>38</td>\n      <td>63</td>\n      <td>0</td>\n      <td>2</td>\n      <td>1</td>\n      <td>5.9960</td>\n      <td>134</td>\n      <td>26144</td>\n    </tr>\n  </tbody>\n</table>\n<p>449514 rows × 42 columns</p>\n</div>"
     },
     "execution_count": 115,
     "metadata": {},
     "output_type": "execute_result"
    }
   ],
   "source": [
    "test2"
   ],
   "metadata": {
    "collapsed": false
   }
  },
  {
   "cell_type": "code",
   "execution_count": 116,
   "outputs": [],
   "source": [
    "y = test2['refListId_actual']\n",
    "X = test2.drop('refListId_actual', axis=1)\n",
    "# retravailler le dataset pour avoir le bon format\n",
    "X['Epc'] = X['Epc'].str.replace('epc_', '')\n",
    "X['Epc'] = X['Epc'].astype(int)"
   ],
   "metadata": {
    "collapsed": false
   }
  },
  {
   "cell_type": "code",
   "execution_count": 117,
   "outputs": [
    {
     "data": {
      "text/plain": "0.9734714080731455"
     },
     "execution_count": 117,
     "metadata": {},
     "output_type": "execute_result"
    }
   ],
   "source": [
    "from sklearn.datasets import make_classification\n",
    "from sklearn.ensemble import RandomForestClassifier\n",
    "from sklearn.tree import DecisionTreeClassifier\n",
    "from sklearn.model_selection import train_test_split\n",
    "from sklearn.preprocessing import MinMaxScaler\n",
    "from sklearn.metrics import accuracy_score\n",
    "\n",
    "\n",
    "\n",
    "def RandomForestML(nb_arbre, max_profondeur):\n",
    "    #  classificateur randomForest\n",
    "    clf = RandomForestClassifier(n_estimators=nb_arbre, max_depth=max_profondeur)\n",
    "\n",
    "    # entrainement des données\n",
    "    Xtrain, Xtest, ytrain, ytest = train_test_split(X, y, train_size=0.8, stratify=y)\n",
    "\n",
    "    # mise à l'échelle\n",
    "    scaler = MinMaxScaler()\n",
    "    scaler.fit(Xtrain)\n",
    "    Xtrain_std = scaler.transform(Xtrain)\n",
    "    Xtest_std = scaler.transform(Xtest)\n",
    "\n",
    "    clf.fit(Xtrain_std, ytrain)\n",
    "\n",
    "    # prédiction de la boite\n",
    "    ypred = clf.predict(Xtest_std)\n",
    "    # renvoie la moyenne de réussite d'identification des boites\n",
    "    # return (ytest==ypred).mean()\n",
    "    return accuracy_score(ytest, ypred)\n",
    "\n",
    "\n",
    "RandomForestML(100, 10)"
   ],
   "metadata": {
    "collapsed": false
   }
  },
  {
   "cell_type": "code",
   "execution_count": 118,
   "outputs": [
    {
     "name": "stdout",
     "output_type": "stream",
     "text": [
      "Meilleurs hyperparamètres:  {'max_depth': 15, 'n_estimators': 200}\n",
      "Meilleure performance de validation croisée:  0.9311055811678817\n"
     ]
    }
   ],
   "source": [
    "from sklearn.ensemble import RandomForestClassifier\n",
    "from sklearn.model_selection import GridSearchCV\n",
    "from sklearn.datasets import make_classification\n",
    "\n",
    "# les données de test sont X et y\n",
    "\n",
    "# Définir les hyperparamètres à ajuster\n",
    "param_grid = { 'n_estimators': [50, 100, 200], 'max_depth': [5, 10, 15]}\n",
    "\n",
    "# Créer un objet de modèle\n",
    "rf = RandomForestClassifier(random_state=42)\n",
    "\n",
    "# Créer un objet GridSearchCV great_search = gs\n",
    "gs = GridSearchCV(estimator=rf, param_grid=param_grid, cv=5, scoring='accuracy', n_jobs=-1)\n",
    "\n",
    "# Exécuter la recherche sur grille\n",
    "gs.fit(X, y)\n",
    "\n",
    "# Afficher les meilleurs hyperparamètres et la meilleure performance de validation croisée\n",
    "print(\"Meilleurs hyperparamètres: \", gs.best_params_)\n",
    "print(\"Meilleure performance de validation croisée: \", gs.best_score_)"
   ],
   "metadata": {
    "collapsed": false
   }
  }
 ],
 "metadata": {
  "colab": {
   "name": "tunnel knn analytical v23.ipynb",
   "provenance": []
  },
  "kernelspec": {
   "display_name": "Python 3",
   "language": "python",
   "name": "python3"
  },
  "language_info": {
   "codemirror_mode": {
    "name": "ipython",
    "version": 3
   },
   "file_extension": ".py",
   "mimetype": "text/x-python",
   "name": "python",
   "nbconvert_exporter": "python",
   "pygments_lexer": "ipython3",
   "version": "3.7.4"
  }
 },
 "nbformat": 4,
 "nbformat_minor": 1
}
